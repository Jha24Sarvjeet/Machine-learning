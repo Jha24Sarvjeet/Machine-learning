{
 "cells": [
  {
   "cell_type": "markdown",
   "metadata": {},
   "source": [
    "Write a function that create a basic logger that logs message to\n",
    "a file named app.log\n"
   ]
  },
  {
   "cell_type": "code",
   "execution_count": 1,
   "metadata": {},
   "outputs": [],
   "source": [
    "import logging\n",
    "def createLogger():\n",
    "    logging.basicConfig(level=logging.DEBUG,\n",
    "                        filename='app1.log'\n",
    "                        )\n",
    "    ##log message with different severity levels\n",
    "    logging.info(\"this is new message\")\n",
    "    logging.debug(\"THIS  is a debug message\")\n",
    "    logging.info(\"THIS  is a info message\")\n",
    "    logging.error(\"THIS  is an error message\")\n",
    "    logging.warning(\"this is a warning message\")\n",
    "    logging.critical(\"this is critical message \")\n",
    "    logging.info(\"this is new message\")\n",
    "#function call\n",
    "createLogger()"
   ]
  }
 ],
 "metadata": {
  "kernelspec": {
   "display_name": "base",
   "language": "python",
   "name": "python3"
  },
  "language_info": {
   "codemirror_mode": {
    "name": "ipython",
    "version": 3
   },
   "file_extension": ".py",
   "mimetype": "text/x-python",
   "name": "python",
   "nbconvert_exporter": "python",
   "pygments_lexer": "ipython3",
   "version": "3.12.4"
  }
 },
 "nbformat": 4,
 "nbformat_minor": 2
}
