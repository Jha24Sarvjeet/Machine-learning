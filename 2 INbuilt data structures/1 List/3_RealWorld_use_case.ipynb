{
 "cells": [
  {
   "cell_type": "markdown",
   "metadata": {},
   "source": [
    "# #Real World Use cases"
   ]
  },
  {
   "cell_type": "code",
   "execution_count": 10,
   "metadata": {},
   "outputs": [
    {
     "name": "stdout",
     "output_type": "stream",
     "text": [
      "task remaining in to_do_list\n",
      "-BUy Groserry\n",
      "-Pay Bills\n",
      "-Schedule meating\n",
      "-go for walk\n"
     ]
    }
   ],
   "source": [
    "#create a To Do list to keep track of task\n",
    "to_do_list=['BUy Groserry','clean the house','Pay Bills']\n",
    "\n",
    "#Adding iteams\n",
    "to_do_list.append('Schedule meating')\n",
    "to_do_list.append('go for walk')\n",
    "\n",
    "#removing task\n",
    "to_do_list.remove(\"clean the house\")\n",
    "\n",
    "#chaking the task\n",
    "if 'pay Bills' in to_do_list:\n",
    "    print(\"Remainder: Don't forget to pay bills\")\n",
    "print('task remaining in to_do_list')\n",
    "for  task in to_do_list:\n",
    "    print(f'-{task}') "
   ]
  }
 ],
 "metadata": {
  "kernelspec": {
   "display_name": "Python 3",
   "language": "python",
   "name": "python3"
  },
  "language_info": {
   "codemirror_mode": {
    "name": "ipython",
    "version": 3
   },
   "file_extension": ".py",
   "mimetype": "text/x-python",
   "name": "python",
   "nbconvert_exporter": "python",
   "pygments_lexer": "ipython3",
   "version": "3.12.4"
  }
 },
 "nbformat": 4,
 "nbformat_minor": 2
}
