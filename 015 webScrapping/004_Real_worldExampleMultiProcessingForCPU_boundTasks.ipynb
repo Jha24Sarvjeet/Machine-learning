{
 "cells": [
  {
   "cell_type": "code",
   "execution_count": 1,
   "metadata": {},
   "outputs": [],
   "source": [
    "'''\n",
    "Real-World Example: Multiprocessing for CPU-bound Tasks\n",
    "Scenario: Factorial Calculation\n",
    "Factorial calculations, especially for large numbers, \n",
    "involve significant computational work. Multiprocessing \n",
    "can be used to distribute the workload across multiple \n",
    "CPU cores, improving performance.\n",
    "\n",
    "'''\n",
    "import multiprocessing\n",
    "import time\n",
    "import sys\n",
    "import math\n",
    "def factorial(num):\n",
    "    print(f\"computing factorial  of {num}\")\n",
    "    result= math.factorial(num)\n",
    "    print(f\"factorial of {num} is {result}\")\n",
    "    return result\n",
    "nums=[2,5,3]\n",
    "\n",
    "if __name__==\"__main__\":\n",
    "    starttime=time.time()\n",
    "    with multiprocessing.Pool() as pool:\n",
    "        result=pool.map(factorial,nums)\n",
    "        \n",
    "        \n",
    "    endTime=time.time()-starttime()\n"
   ]
  },
  {
   "cell_type": "code",
   "execution_count": null,
   "metadata": {},
   "outputs": [],
   "source": []
  }
 ],
 "metadata": {
  "kernelspec": {
   "display_name": "base",
   "language": "python",
   "name": "python3"
  },
  "language_info": {
   "codemirror_mode": {
    "name": "ipython",
    "version": 3
   },
   "file_extension": ".py",
   "mimetype": "text/x-python",
   "name": "python",
   "nbconvert_exporter": "python",
   "pygments_lexer": "ipython3",
   "version": "3.12.4"
  }
 },
 "nbformat": 4,
 "nbformat_minor": 2
}
