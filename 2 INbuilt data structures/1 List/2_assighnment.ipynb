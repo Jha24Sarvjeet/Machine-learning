{
 "cells": [
  {
   "cell_type": "markdown",
   "metadata": {},
   "source": [
    "List Assignment\n"
   ]
  },
  {
   "cell_type": "markdown",
   "metadata": {},
   "source": [
    "Create a list of the first 20 positive integers. Print the list"
   ]
  },
  {
   "cell_type": "code",
   "execution_count": 1,
   "metadata": {},
   "outputs": [
    {
     "data": {
      "text/plain": [
       "[1, 2, 3, 4, 5, 6, 7, 8, 9, 10, 11, 12, 13, 14, 15, 16, 17, 18, 19, 20]"
      ]
     },
     "execution_count": 1,
     "metadata": {},
     "output_type": "execute_result"
    }
   ],
   "source": [
    "positiveNumber=[num for num in range(1,21)]\n",
    "#positiveNumber=list(range(1,21))\n",
    "positiveNumber"
   ]
  },
  {
   "cell_type": "markdown",
   "metadata": {},
   "source": [
    "Print the first, middle, and last elements of the list created in Assignment 1."
   ]
  },
  {
   "cell_type": "code",
   "execution_count": 4,
   "metadata": {},
   "outputs": [
    {
     "name": "stdout",
     "output_type": "stream",
     "text": [
      "first element 1\n",
      "middle element 11\n",
      "last element 20\n"
     ]
    }
   ],
   "source": [
    "print(f\"first element {positiveNumber[0]}\")\n",
    "print(f\"middle element {positiveNumber[len(positiveNumber)//2]}\")\n",
    "print(f\"last element {positiveNumber[len(positiveNumber)-1]}\")"
   ]
  },
  {
   "cell_type": "markdown",
   "metadata": {},
   "source": [
    "Print the first five elements, the last five elements, and the elements from index 5 to 15 of the list created in Assignment 1.\n"
   ]
  },
  {
   "cell_type": "code",
   "execution_count": 8,
   "metadata": {},
   "outputs": [
    {
     "name": "stdout",
     "output_type": "stream",
     "text": [
      "first 5 element [1, 2, 3, 4, 5]\n",
      "last 5 element [17, 18, 19, 20]\n",
      "from 5th to 15th element [6, 7, 8, 9, 10, 11, 12, 13, 14, 15, 16]\n"
     ]
    }
   ],
   "source": [
    "print(f\"first 5 element {positiveNumber[:5]}\")\n",
    "print(f\"last 5 element {positiveNumber[16:]}\")\n",
    "print(f\"from 5th to 15th element {positiveNumber[5:16]}\")"
   ]
  },
  {
   "cell_type": "markdown",
   "metadata": {},
   "source": [
    "Create a new list containing the squares of the first 10 positive integers using a list comprehension. Print the new list."
   ]
  },
  {
   "cell_type": "code",
   "execution_count": 9,
   "metadata": {},
   "outputs": [
    {
     "name": "stdout",
     "output_type": "stream",
     "text": [
      "[1, 4, 9, 16, 25, 36, 49, 64, 81, 100]\n"
     ]
    }
   ],
   "source": [
    "square=[num**2 for num in range(1,11)]\n",
    "print(square)"
   ]
  },
  {
   "cell_type": "markdown",
   "metadata": {},
   "source": [
    "Create a new list containing only the even numbers from the list created in Assignment 1 using a list comprehension. Print the new list."
   ]
  },
  {
   "cell_type": "code",
   "execution_count": 10,
   "metadata": {},
   "outputs": [
    {
     "name": "stdout",
     "output_type": "stream",
     "text": [
      "[2, 4, 6, 8, 10, 12, 14, 16, 18, 20]\n"
     ]
    }
   ],
   "source": [
    "even=[num for num in positiveNumber if num%2==0]\n",
    "print(even)"
   ]
  },
  {
   "cell_type": "markdown",
   "metadata": {},
   "source": [
    "Create a list of random numbers and sort it in ascending and descending order. Remove the duplicates from the list and print the modified list."
   ]
  },
  {
   "cell_type": "code",
   "execution_count": 23,
   "metadata": {},
   "outputs": [
    {
     "name": "stdout",
     "output_type": "stream",
     "text": [
      "[19, 15, 25, 7, 15, 3, 12, 15, 5, 18]\n",
      "sorted list in ascending order\n",
      "[19, 15, 25, 7, 15, 3, 12, 15, 5, 18]\n",
      "[25, 19, 18, 15, 15, 15, 12, 7, 5, 3]\n",
      "unique element\n",
      "[3, 5, 7, 12, 15, 18, 19, 25]\n"
     ]
    }
   ],
   "source": [
    "import random\n",
    "import math\n",
    "randomList=[random.randint(1,25) for i in range(10)]\n",
    "print(randomList)\n",
    "sortedAsc=sorted(randomList)\n",
    "print('sorted list in ascending order')\n",
    "print(randomList)\n",
    "sortedDesc=sorted(randomList,reverse=True)\n",
    "print(sortedDesc)\n",
    "print(\"unique element\")\n",
    "print(list(set(randomList)))\n"
   ]
  },
  {
   "cell_type": "markdown",
   "metadata": {},
   "source": [
    "Create a nested list representing a 3x3 matrix and print the matrix. Access and print the element at the second row and third column."
   ]
  },
  {
   "cell_type": "code",
   "execution_count": 29,
   "metadata": {},
   "outputs": [
    {
     "name": "stdout",
     "output_type": "stream",
     "text": [
      "[[9, 10, 9], [1, 8, 3], [7, 9, 7]]\n",
      "second row [1, 8, 3]\n",
      "third row [7, 9, 7]\n"
     ]
    }
   ],
   "source": [
    "nestedList=[[random.randint(1,10),random.randint(1,10),random.randint(1,10)] for i in range(3) ]\n",
    "print(nestedList)\n",
    "print(f\"second row {nestedList[1]}\")\n",
    "print(f\"third row {nestedList[2]}\")"
   ]
  },
  {
   "cell_type": "markdown",
   "metadata": {},
   "source": [
    "Create a list of dictionaries where each dictionary represents a student with keys 'name' and 'score'. Sort the list of dictionaries by the 'score' in descending order and print the sorted list.\n"
   ]
  },
  {
   "cell_type": "code",
   "execution_count": 35,
   "metadata": {},
   "outputs": [
    {
     "name": "stdout",
     "output_type": "stream",
     "text": [
      "[{'name': 'ram', 'score': 95}, {'name': 'aman', 'score': 93}, {'name': 'rakesh', 'score': 89}, {'name': 'shyam', 'score': 73}, {'name': 'rockey', 'score': 69}, {'name': 'subham', 'score': 38}]\n"
     ]
    }
   ],
   "source": [
    "studentData=[{'name':'ram','score':95},{'name':'shyam','score':73},\n",
    "             {'name':'rakesh','score':89},{'name':'aman','score':93},\n",
    "             {'name':'subham','score':38},{'name':'rockey','score':69}]\n",
    "sortedList=sorted(studentData,key=lambda x:x['score'],reverse=True)\n",
    "print(sortedList)"
   ]
  },
  {
   "cell_type": "markdown",
   "metadata": {},
   "source": [
    "Write a function that takes a 3x3 matrix (nested list) as input and returns its transpose. Print the original and transposed matrices.\n"
   ]
  },
  {
   "cell_type": "code",
   "execution_count": 47,
   "metadata": {},
   "outputs": [
    {
     "name": "stdout",
     "output_type": "stream",
     "text": [
      "original list \n",
      "[[1, 2, 3], [4, 5, 6], [7, 8, 9]]\n",
      "transposed list\n",
      "[[1, 4, 7], [2, 5, 8], [3, 6, 9]]\n"
     ]
    }
   ],
   "source": [
    "#better approach\n",
    "# def transpose_matrix(matrix):\n",
    "#     transposed = [[matrix[j][i] for j in range(len(matrix))] for i in range(len(matrix[0]))]\n",
    "#     return transposed\n",
    "def transpose(Nlist):\n",
    "   \n",
    "    for i in range(len(Nlist)):\n",
    "        for j in range(len(Nlist[0])):\n",
    "            if(j<i):\n",
    "                Nlist[i][j],Nlist[j][i]=Nlist[j][i],Nlist[i][j]\n",
    "    return Nlist\n",
    "li=[[1,2, 3], [4, 5, 6], [7, 8, 9]]\n",
    "print(\"original list \")\n",
    "print(li)\n",
    "transposeList=transpose(li)\n",
    "print(\"transposed list\")\n",
    "print(transposeList)"
   ]
  },
  {
   "cell_type": "markdown",
   "metadata": {},
   "source": [
    "Write a function that takes a nested list and flattens it into a single list. Print the original and flattened lists."
   ]
  },
  {
   "cell_type": "code",
   "execution_count": 68,
   "metadata": {},
   "outputs": [
    {
     "name": "stdout",
     "output_type": "stream",
     "text": [
      " original list [[1, 2, 3], [4, 5, 6], [7, 8, 9]]\n",
      "[1, 2, 3, 4, 5, 6, 7, 8, 9]\n"
     ]
    }
   ],
   "source": [
    "def flatten_list(nested_list):\n",
    "    li=[ iteam  for sublist in nested_list for iteam in sublist ]\n",
    "    return li\n",
    "li=[[1,2, 3], [4, 5, 6], [7, 8, 9]]\n",
    "print(f\" original list {li}\")\n",
    "# flattenList=[]\n",
    "# for subList in li:\n",
    "#     for i in subList:\n",
    "#         flattenList.append(i)\n",
    "# print(f\"Flatten list {flattenList}\")\n",
    "\n",
    "flatten_li=flatten_list(li)\n",
    "print(flatten_li)"
   ]
  },
  {
   "cell_type": "markdown",
   "metadata": {},
   "source": [
    "Create a list of the first 10 positive integers. Remove the elements at indices 2, 4, and 6, and insert the element '99' at index 5. Print the modified list.\n"
   ]
  },
  {
   "cell_type": "code",
   "execution_count": 72,
   "metadata": {},
   "outputs": [
    {
     "name": "stdout",
     "output_type": "stream",
     "text": [
      "[1, 2, 3, 4, 5, 6, 7, 8, 9, 10]\n",
      "[1, 2, 4, 6, 8, 9, 10]\n"
     ]
    }
   ],
   "source": [
    "numbers_list=list(range(1,11))\n",
    "print(numbers_list)\n",
    "numbers_list.pop(6)\n",
    "numbers_list.pop(4)\n",
    "numbers_list.pop(2)\n",
    "\n",
    "# another way\n",
    "# del numbers_list[6]\n",
    "# del numbers_list[4]\n",
    "# del numbers_list[2]\n",
    "\n",
    "\n",
    "print(numbers_list)"
   ]
  },
  {
   "cell_type": "markdown",
   "metadata": {},
   "source": [
    "Create two lists of the same length. Use the `zip` function to combine these lists into a list of tuples and print the result.\n"
   ]
  },
  {
   "cell_type": "code",
   "execution_count": 74,
   "metadata": {},
   "outputs": [
    {
     "data": {
      "text/plain": [
       "[(1, 'a'), (2, 'b'), (3, 'c'), (4, 'd'), (5, 'e')]"
      ]
     },
     "execution_count": 74,
     "metadata": {},
     "output_type": "execute_result"
    }
   ],
   "source": [
    "list1=[1,2,3,4,5]\n",
    "list2=['a','b','c','d','e']\n",
    "zippedlist=list(zip(list1,list2))\n",
    "zippedlist"
   ]
  },
  {
   "cell_type": "markdown",
   "metadata": {},
   "source": [
    "Write a function that takes a list and returns a new list with the elements in reverse order. Print the original and reversed lists."
   ]
  },
  {
   "cell_type": "code",
   "execution_count": 76,
   "metadata": {},
   "outputs": [
    {
     "name": "stdout",
     "output_type": "stream",
     "text": [
      "original list [1, 2, 3, 4, 5]\n",
      "reversed list [5, 4, 3, 2, 1]\n"
     ]
    }
   ],
   "source": [
    "def reverseList(lst):\n",
    "    lst.reverse()\n",
    "    return lst\n",
    "lst=[1,2,3,4,5]\n",
    "print(f\"original list {lst}\")\n",
    "rvrsdList=reverseList(lst)\n",
    "print(f\"reversed list {rvrsdList}\")"
   ]
  },
  {
   "cell_type": "markdown",
   "metadata": {},
   "source": [
    "Write a function that rotates a list by n positions. Print the original and rotated lists."
   ]
  },
  {
   "cell_type": "code",
   "execution_count": 81,
   "metadata": {},
   "outputs": [
    {
     "data": {
      "text/plain": [
       "[6, 7, 8, 9, 10, 1, 2, 3, 4, 5]"
      ]
     },
     "execution_count": 81,
     "metadata": {},
     "output_type": "execute_result"
    }
   ],
   "source": [
    "def rotate(lst,n):\n",
    "    return lst[n:]+lst[:n]\n",
    "k=int(input(\"enter k by which we hav eto rotate\"))\n",
    "#reverse first n element\n",
    "\n",
    "lst=[1,2,3,4,5,6,7,8,9,10]\n",
    "\n",
    "rotate(lst,k)\n"
   ]
  },
  {
   "cell_type": "markdown",
   "metadata": {},
   "source": [
    "Write a function that takes two lists and returns a new list containing only the elements that are present in both lists. Print the intersected list."
   ]
  },
  {
   "cell_type": "code",
   "execution_count": 83,
   "metadata": {},
   "outputs": [
    {
     "name": "stdout",
     "output_type": "stream",
     "text": [
      "[3, 4, 5]\n"
     ]
    }
   ],
   "source": [
    "def common(lst1,lst2):\n",
    "    return [item for item in lst1 if item in lst2]\n",
    "list1 = [1, 2, 3, 4, 5]\n",
    "list2 = [3, 4, 5, 6, 7]\n",
    "intersectedList=common(list1,list2)\n",
    "print(intersectedList)"
   ]
  }
 ],
 "metadata": {
  "kernelspec": {
   "display_name": "Python 3",
   "language": "python",
   "name": "python3"
  },
  "language_info": {
   "codemirror_mode": {
    "name": "ipython",
    "version": 3
   },
   "file_extension": ".py",
   "mimetype": "text/x-python",
   "name": "python",
   "nbconvert_exporter": "python",
   "pygments_lexer": "ipython3",
   "version": "3.12.4"
  }
 },
 "nbformat": 4,
 "nbformat_minor": 2
}
