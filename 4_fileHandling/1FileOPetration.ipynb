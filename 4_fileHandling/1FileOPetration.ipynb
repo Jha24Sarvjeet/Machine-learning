{
 "cells": [
  {
   "cell_type": "markdown",
   "metadata": {},
   "source": [
    "File OPertaion Read and write files"
   ]
  },
  {
   "cell_type": "code",
   "execution_count": 3,
   "metadata": {},
   "outputs": [
    {
     "name": "stdout",
     "output_type": "stream",
     "text": [
      "this is first file\n",
      "for test purpose only\n",
      "i am sarvjeet \n",
      "learning python\n",
      "\n"
     ]
    }
   ],
   "source": [
    "#read a whole file\n",
    "with open('file1.txt','r') as file:\n",
    "    content=file.read()\n",
    "    print(content)\n"
   ]
  },
  {
   "cell_type": "code",
   "execution_count": 14,
   "metadata": {},
   "outputs": [
    {
     "name": "stdout",
     "output_type": "stream",
     "text": [
      "this is first file\n",
      "\n",
      "for test purpose only\n",
      "\n",
      "i am sarvjeet \n",
      "\n",
      "learning python\n",
      "\n"
     ]
    }
   ],
   "source": [
    "#reading fie line by line\n",
    "with open('file1.txt') as file:\n",
    "    \n",
    "    for line in file:\n",
    "        print(line)\n",
    "    "
   ]
  },
  {
   "cell_type": "code",
   "execution_count": 17,
   "metadata": {},
   "outputs": [],
   "source": [
    "#wriring a file(overwriting)\n",
    "with open('file1.txt','w') as file:\n",
    "    file.write(\"Hello world\\n\")\n",
    "    file.write(\"how are you\\n\")"
   ]
  },
  {
   "cell_type": "code",
   "execution_count": 18,
   "metadata": {},
   "outputs": [],
   "source": [
    "#wriring a file(without overwriting)\n",
    "with open('file1.txt','a') as file:\n",
    "    file.write(\"Hello world\\n\")\n",
    "    file.write(\"how are you\\n\")"
   ]
  },
  {
   "cell_type": "code",
   "execution_count": 21,
   "metadata": {},
   "outputs": [],
   "source": [
    "#wriring a list of line to a file\n",
    "with open('file1.txt','w') as file:\n",
    "   lines=['first line\\n','second line\\n']\n",
    "   file.writelines(lines)"
   ]
  }
 ],
 "metadata": {
  "kernelspec": {
   "display_name": "Python 3",
   "language": "python",
   "name": "python3"
  },
  "language_info": {
   "codemirror_mode": {
    "name": "ipython",
    "version": 3
   },
   "file_extension": ".py",
   "mimetype": "text/x-python",
   "name": "python",
   "nbconvert_exporter": "python",
   "pygments_lexer": "ipython3",
   "version": "3.12.4"
  }
 },
 "nbformat": 4,
 "nbformat_minor": 2
}
