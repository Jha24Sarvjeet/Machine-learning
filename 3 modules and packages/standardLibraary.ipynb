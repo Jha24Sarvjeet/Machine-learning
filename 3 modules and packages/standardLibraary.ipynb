{
 "cells": [
  {
   "cell_type": "markdown",
   "metadata": {},
   "source": [
    "Standard Library Overview\n",
    "\n",
    "\n",
    "\n",
    "Python's Standard Library is a vast collection of modules and packages that come bundled with Python, providing a wide range of functionalities out of the box. Here's an overview of some of the most commonly used modules and packages in the Python Standard Library."
   ]
  },
  {
   "cell_type": "code",
   "execution_count": 17,
   "metadata": {},
   "outputs": [
    {
     "name": "stdout",
     "output_type": "stream",
     "text": [
      "array('i', [1, 2, 3])\n",
      "array('d', [2.0, 5.3, 6.9])\n"
     ]
    }
   ],
   "source": [
    "#array\n",
    "import array\n",
    "arr=array.array('i',[1,2,3]) #i denote integer\n",
    "print(arr)\n",
    "arr2=array.array('d',[2.0,5.3,6.9])\n",
    "print (arr2)"
   ]
  },
  {
   "cell_type": "code",
   "execution_count": 22,
   "metadata": {},
   "outputs": [
    {
     "name": "stdout",
     "output_type": "stream",
     "text": [
      "array('i', [1, 10, 10, 10, 10, 10])\n"
     ]
    },
    {
     "data": {
      "text/plain": [
       "10"
      ]
     },
     "execution_count": 22,
     "metadata": {},
     "output_type": "execute_result"
    }
   ],
   "source": [
    "#adding element\n",
    "arr.insert(1,10)#add 10 at 1st index\n",
    "print(arr)\n",
    "#removing element\n",
    "arr.pop()\n",
    "#accessing element from array\n",
    "arr[3]"
   ]
  },
  {
   "cell_type": "markdown",
   "metadata": {},
   "source": [
    "math"
   ]
  },
  {
   "cell_type": "code",
   "execution_count": 24,
   "metadata": {},
   "outputs": [
    {
     "name": "stdout",
     "output_type": "stream",
     "text": [
      "2.449489742783178\n",
      "3.141592653589793\n"
     ]
    }
   ],
   "source": [
    "from math import *\n",
    "print(sqrt(6))\n",
    "print(pi)"
   ]
  },
  {
   "cell_type": "markdown",
   "metadata": {},
   "source": [
    "random"
   ]
  },
  {
   "cell_type": "code",
   "execution_count": 60,
   "metadata": {},
   "outputs": [
    {
     "name": "stdout",
     "output_type": "stream",
     "text": [
      "10\n"
     ]
    },
    {
     "data": {
      "text/plain": [
       "6"
      ]
     },
     "execution_count": 60,
     "metadata": {},
     "output_type": "execute_result"
    }
   ],
   "source": [
    "import random\n",
    "num=random.randint(1,10)\n",
    "print(num)\n",
    "ch=random.choice([1,5,6,7,9,6,20])\n",
    "ch"
   ]
  },
  {
   "cell_type": "code",
   "execution_count": 4,
   "metadata": {},
   "outputs": [
    {
     "data": {
      "text/plain": [
       "'f:\\\\document\\\\MachineLearning\\\\3 modules and packages'"
      ]
     },
     "execution_count": 4,
     "metadata": {},
     "output_type": "execute_result"
    }
   ],
   "source": [
    "#file and directory access\n",
    "import os\n",
    "os.getcwd()\n",
    "# os.mkdir('temp.exe')\n"
   ]
  },
  {
   "cell_type": "code",
   "execution_count": null,
   "metadata": {},
   "outputs": [],
   "source": []
  },
  {
   "cell_type": "code",
   "execution_count": 7,
   "metadata": {},
   "outputs": [
    {
     "data": {
      "text/plain": [
       "'dstination.txt'"
      ]
     },
     "execution_count": 7,
     "metadata": {},
     "output_type": "execute_result"
    }
   ],
   "source": [
    "#high level operation on files and colection of files\n",
    "import shutil\n",
    "shutil.copyfile('sourse.txt','dstination.txt')"
   ]
  },
  {
   "cell_type": "code",
   "execution_count": 14,
   "metadata": {},
   "outputs": [
    {
     "name": "stdout",
     "output_type": "stream",
     "text": [
      "{\"name\": \"raja\", \"age\": 50}\n",
      "<class 'str'>\n",
      "{'name': 'raja', 'age': 50}\n",
      "<class 'dict'>\n"
     ]
    }
   ],
   "source": [
    "#data serialization\n",
    "import json\n",
    "data={'name':\"raja\",'age':50}\n",
    "json_data=json.dumps(data)\n",
    "print(json_data)\n",
    "print(type(json_data))\n",
    "dict_data=json.loads(json_data)\n",
    "print(dict_data)\n",
    "print(type(dict_data))"
   ]
  },
  {
   "cell_type": "code",
   "execution_count": 20,
   "metadata": {},
   "outputs": [
    {
     "name": "stdout",
     "output_type": "stream",
     "text": [
      "['name', 'age']\n",
      "['raj', '50']\n",
      "['rohan', '35']\n"
     ]
    }
   ],
   "source": [
    "#csv\n",
    "import csv\n",
    "with open('example.csv','w',newline='')  as file:\n",
    "    writer=csv.writer(file)\n",
    "    writer.writerow(['name','age'])\n",
    "    writer.writerow(['raj',50])\n",
    "    writer.writerow(['rohan',35])\n",
    "with open('example.csv','r') as file:\n",
    "    reader=csv.reader(file)\n",
    "  \n",
    "    for row in reader:\n",
    "        print(row)"
   ]
  },
  {
   "cell_type": "code",
   "execution_count": 24,
   "metadata": {},
   "outputs": [
    {
     "name": "stdout",
     "output_type": "stream",
     "text": [
      "2024-07-10 15:00:30.297621\n",
      "yesterday time\n",
      "2024-07-09 15:00:30.297621\n"
     ]
    }
   ],
   "source": [
    "#datetime\n",
    "from datetime import datetime,timedelta\n",
    "\n",
    "now=datetime.now()\n",
    "print(datetime.now())\n",
    "print(\"yesterday time\")\n",
    "yesterday=now-timedelta(days=1)\n",
    "print(yesterday)\n"
   ]
  },
  {
   "cell_type": "code",
   "execution_count": 26,
   "metadata": {},
   "outputs": [
    {
     "name": "stdout",
     "output_type": "stream",
     "text": [
      "1720603893.350079\n",
      "1720603897.3521757\n"
     ]
    }
   ],
   "source": [
    "#time\n",
    "import time\n",
    "print(time.time())\n",
    "time.sleep(4)\n",
    "print(time.time())"
   ]
  },
  {
   "cell_type": "code",
   "execution_count": 27,
   "metadata": {},
   "outputs": [
    {
     "data": {
      "text/plain": [
       "477.9455259305775"
      ]
     },
     "execution_count": 27,
     "metadata": {},
     "output_type": "execute_result"
    }
   ],
   "source": [
    "(1720603893.350079)/3600000\n",
    "\n"
   ]
  },
  {
   "cell_type": "code",
   "execution_count": 37,
   "metadata": {},
   "outputs": [
    {
     "name": "stdout",
     "output_type": "stream",
     "text": [
      "123\n"
     ]
    },
    {
     "name": "stderr",
     "output_type": "stream",
     "text": [
      "<>:3: SyntaxWarning: invalid escape sequence '\\d'\n",
      "<>:3: SyntaxWarning: invalid escape sequence '\\d'\n",
      "C:\\Users\\HP\\AppData\\Local\\Temp\\ipykernel_14480\\819085376.py:3: SyntaxWarning: invalid escape sequence '\\d'\n",
      "  pattern='\\d+'\n"
     ]
    }
   ],
   "source": [
    "#regular expression\n",
    "import re\n",
    "pattern='\\d+'\n",
    "text='there are 123apples 456'\n",
    "\n",
    "match=re.search(pattern,text)\n",
    "print(match.group())"
   ]
  }
 ],
 "metadata": {
  "kernelspec": {
   "display_name": "Python 3",
   "language": "python",
   "name": "python3"
  },
  "language_info": {
   "codemirror_mode": {
    "name": "ipython",
    "version": 3
   },
   "file_extension": ".py",
   "mimetype": "text/x-python",
   "name": "python",
   "nbconvert_exporter": "python",
   "pygments_lexer": "ipython3",
   "version": "3.12.4"
  }
 },
 "nbformat": 4,
 "nbformat_minor": 2
}
