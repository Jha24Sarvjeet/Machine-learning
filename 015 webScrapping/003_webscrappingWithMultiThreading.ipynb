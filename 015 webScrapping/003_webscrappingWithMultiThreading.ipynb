{
 "cells": [
  {
   "cell_type": "code",
   "execution_count": 5,
   "metadata": {},
   "outputs": [
    {
     "name": "stdout",
     "output_type": "stream",
     "text": [
      "fetched :9741 characters from https://python.langchain.com/v0.2/docs/introduction/\n",
      "fetched :7946 characters from https://python.langchain.com/v0.2/docs/tutorials/\n",
      "fetched :73844 characters from https://python.langchain.com/v0.2/docs/concepts/\n",
      "all web page fetched\n"
     ]
    }
   ],
   "source": [
    "'''Real-World Example: Multithreading for I/O-bound Tasks\n",
    "Scenario: Web Scraping\n",
    "Web scraping often involves making numerous network requests to \n",
    "fetch web pages. These tasks are I/O-bound because they spend a lot of\n",
    "time waiting for responses from servers. Multithreading can significantly\n",
    "improve the performance by allowing multiple web pages to be fetched concurrently.\n",
    "''' \n",
    "from bs4 import BeautifulSoup\n",
    "import requests\n",
    "import threading\n",
    "import time\n",
    "\n",
    "urls=[\"https://python.langchain.com/v0.2/docs/introduction/\",\n",
    "    \"https://python.langchain.com/v0.2/docs/tutorials/\",\n",
    "    \"https://python.langchain.com/v0.2/docs/concepts/\"]\n",
    "def fetch_content(url):\n",
    "    response=requests.get(url)\n",
    "    soup=BeautifulSoup(response.content,'html.parser')\n",
    "    print(f\"fetched :{len(soup.text)} characters from {url}\")\n",
    "threads=[]\n",
    "for url in urls:\n",
    "    T=threading.Thread(target=fetch_content,args=(url,))\n",
    "    threads.append(T)\n",
    "    T.start()\n",
    "for thread in threads:\n",
    "    thread.join()\n",
    "    \n",
    "print(\"all web page fetched\")"
   ]
  }
 ],
 "metadata": {
  "kernelspec": {
   "display_name": "base",
   "language": "python",
   "name": "python3"
  },
  "language_info": {
   "codemirror_mode": {
    "name": "ipython",
    "version": 3
   },
   "file_extension": ".py",
   "mimetype": "text/x-python",
   "name": "python",
   "nbconvert_exporter": "python",
   "pygments_lexer": "ipython3",
   "version": "3.12.4"
  }
 },
 "nbformat": 4,
 "nbformat_minor": 2
}
