{
 "cells": [
  {
   "cell_type": "markdown",
   "metadata": {},
   "source": [
    "File OPertaion Read and write files"
   ]
  },
  {
   "cell_type": "code",
   "execution_count": 2,
   "metadata": {},
   "outputs": [
    {
     "name": "stdout",
     "output_type": "stream",
     "text": [
      "New line added\n",
      "second  line added\n",
      "\n"
     ]
    }
   ],
   "source": [
    "#read a whole file\n",
    "with open('file1.txt','r') as file:\n",
    "    content=file.read()\n",
    "    print(content)\n"
   ]
  },
  {
   "cell_type": "code",
   "execution_count": 14,
   "metadata": {},
   "outputs": [
    {
     "name": "stdout",
     "output_type": "stream",
     "text": [
      "this is first file\n",
      "\n",
      "for test purpose only\n",
      "\n",
      "i am sarvjeet \n",
      "\n",
      "learning python\n",
      "\n"
     ]
    }
   ],
   "source": [
    "#reading fie line by line\n",
    "with open('file1.txt') as file:\n",
    "    \n",
    "    for line in file:\n",
    "        print(line)\n",
    "    "
   ]
  },
  {
   "cell_type": "code",
   "execution_count": 17,
   "metadata": {},
   "outputs": [],
   "source": [
    "#wriring a file(overwriting)\n",
    "with open('file1.txt','w') as file:\n",
    "    file.write(\"Hello world\\n\")\n",
    "    file.write(\"how are you\\n\")"
   ]
  },
  {
   "cell_type": "code",
   "execution_count": 18,
   "metadata": {},
   "outputs": [],
   "source": [
    "#wriring a file(without overwriting)\n",
    "with open('file1.txt','a') as file:\n",
    "    file.write(\"Hello world\\n\")\n",
    "    file.write(\"how are you\\n\")"
   ]
  },
  {
   "cell_type": "code",
   "execution_count": 21,
   "metadata": {},
   "outputs": [],
   "source": [
    "#wriring a list of line to a file\n",
    "with open('file1.txt','w') as file:\n",
    "   lines=['first line\\n','second line\\n']\n",
    "   file.writelines(lines)"
   ]
  },
  {
   "cell_type": "markdown",
   "metadata": {},
   "source": [
    "Binary file"
   ]
  },
  {
   "cell_type": "code",
   "execution_count": 27,
   "metadata": {},
   "outputs": [],
   "source": [
    "#writing a binary file\n",
    "data=b'\\x00\\x01\\x02\\x03\\x04'\n",
    "with open ('example.bin','wb') as file:\n",
    "    file.write(data)\n"
   ]
  },
  {
   "cell_type": "code",
   "execution_count": 29,
   "metadata": {},
   "outputs": [
    {
     "name": "stdout",
     "output_type": "stream",
     "text": [
      "b'\\x00\\x01\\x02\\x03\\x04'\n"
     ]
    }
   ],
   "source": [
    "#reading a binary file\n",
    "\n",
    "with open ('example.bin','rb') as file:\n",
    "    content=file.read()\n",
    "    print(content)\n"
   ]
  },
  {
   "cell_type": "code",
   "execution_count": 30,
   "metadata": {},
   "outputs": [],
   "source": [
    "#read the content from source text file and write to a destination file\n",
    "with open('file1.txt') as file:\n",
    "    content=file.read()\n",
    "with open('destination.txt','w') as file:\n",
    "    file.write(content)\n"
   ]
  },
  {
   "cell_type": "code",
   "execution_count": 33,
   "metadata": {},
   "outputs": [
    {
     "name": "stdout",
     "output_type": "stream",
     "text": [
      "New line added\n",
      "second  line added\n",
      "\n"
     ]
    }
   ],
   "source": [
    "#writing and then reading\n",
    "with open('file1.txt','w+') as file:\n",
    "    file.write('New line added\\n')\n",
    "    file.write('second  line added\\n')\n",
    "    #move the file cursor to the begining\n",
    "    file.seek(0)\n",
    "    content=file.read()\n",
    "    print(content)\n"
   ]
  },
  {
   "cell_type": "code",
   "execution_count": 37,
   "metadata": {},
   "outputs": [
    {
     "name": "stdout",
     "output_type": "stream",
     "text": [
      "directory package created\n"
     ]
    }
   ],
   "source": [
    "#create a new directory\n",
    "new_dir='package'\n",
    "import os\n",
    "os.mkdir(new_dir)\n",
    "print(f\"directory {new_dir} created\")"
   ]
  },
  {
   "cell_type": "code",
   "execution_count": 39,
   "metadata": {},
   "outputs": [
    {
     "name": "stdout",
     "output_type": "stream",
     "text": [
      "['1FileOPetration.ipynb', 'destination.txt', 'example.bin', 'file1.txt', 'package']\n"
     ]
    }
   ],
   "source": [
    "#listing files and directories\n",
    "iteam=os.listdir('.')  #. means current working directory\n",
    "print(iteam)"
   ]
  },
  {
   "cell_type": "code",
   "execution_count": 42,
   "metadata": {},
   "outputs": [
    {
     "name": "stdout",
     "output_type": "stream",
     "text": [
      "folder\\file.txt\n"
     ]
    }
   ],
   "source": [
    "###joining path\n",
    "dir_name=\"folder\"\n",
    "file_name=\"file.txt\"\n",
    "full_path=os.path.join(dir_name,file_name)#relative path\n",
    "print(full_path)\n"
   ]
  },
  {
   "cell_type": "code",
   "execution_count": 43,
   "metadata": {},
   "outputs": [
    {
     "name": "stdout",
     "output_type": "stream",
     "text": [
      "f:\\document\\MachineLearning\\4_fileHandling\\folder\\file.txt\n"
     ]
    }
   ],
   "source": [
    "###joining path\n",
    "dir_name=\"folder\"\n",
    "file_name=\"file.txt\"\n",
    "\n",
    "#absolute path\n",
    "full_path=os.path.join(os.getcwd(),dir_name,file_name)#relative path\n",
    "print(full_path)"
   ]
  },
  {
   "cell_type": "code",
   "execution_count": 45,
   "metadata": {},
   "outputs": [
    {
     "name": "stdout",
     "output_type": "stream",
     "text": [
      "the path 'example1.txt' does not exixts\n"
     ]
    }
   ],
   "source": [
    "##check path is present or not\n",
    "path='example1.txt'\n",
    "if os.path.exists(path):\n",
    "    print(f\"the path '{path}' exixts\")\n",
    "else:\n",
    "    print(f\"the path '{path}' does not exixts\")\n",
    "\n"
   ]
  },
  {
   "cell_type": "code",
   "execution_count": 49,
   "metadata": {},
   "outputs": [
    {
     "name": "stdout",
     "output_type": "stream",
     "text": [
      "'example.bin' is file\n"
     ]
    }
   ],
   "source": [
    "##check path is present or not\n",
    "path='example.bin'\n",
    "if os.path.isfile(path):\n",
    "    print(f\"'{path}' is file\")\n",
    "elif os.path.isdir(path):\n",
    "    print(f\"'{path}' is ditrectory\")\n",
    "else:\n",
    "    print(f\"it's neither path nor directory\")\n",
    "\n"
   ]
  },
  {
   "cell_type": "code",
   "execution_count": 50,
   "metadata": {},
   "outputs": [
    {
     "name": "stdout",
     "output_type": "stream",
     "text": [
      "f:\\document\\MachineLearning\\4_fileHandling\\example.txt\n"
     ]
    }
   ],
   "source": [
    "###Getting the absolute path\n",
    "relativepath='example.txt'\n",
    "abs_path=os.path.abspath(relativepath)\n",
    "print(abs_path)"
   ]
  }
 ],
 "metadata": {
  "kernelspec": {
   "display_name": "Python 3",
   "language": "python",
   "name": "python3"
  },
  "language_info": {
   "codemirror_mode": {
    "name": "ipython",
    "version": 3
   },
   "file_extension": ".py",
   "mimetype": "text/x-python",
   "name": "python",
   "nbconvert_exporter": "python",
   "pygments_lexer": "ipython3",
   "version": "3.12.4"
  }
 },
 "nbformat": 4,
 "nbformat_minor": 2
}
