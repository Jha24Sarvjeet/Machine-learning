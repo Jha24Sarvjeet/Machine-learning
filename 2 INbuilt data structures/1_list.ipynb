{
 "cells": [
  {
   "cell_type": "markdown",
   "metadata": {},
   "source": [
    "List"
   ]
  },
  {
   "cell_type": "code",
   "execution_count": 18,
   "metadata": {},
   "outputs": [],
   "source": [
    "# list methods\n",
    "li = ['apple', 'banana', 'litchi', 'grapes', 'orange']"
   ]
  },
  {
   "cell_type": "code",
   "execution_count": 19,
   "metadata": {},
   "outputs": [
    {
     "name": "stdout",
     "output_type": "stream",
     "text": [
      "['apple', 'banana', 'litchi', 'grapes', 'orange', 'pomogranates']\n"
     ]
    }
   ],
   "source": [
    "#to add item at end\n",
    "li.append('pomogranates')\n",
    "print(li)"
   ]
  },
  {
   "cell_type": "code",
   "execution_count": 20,
   "metadata": {},
   "outputs": [
    {
     "name": "stdout",
     "output_type": "stream",
     "text": [
      "pomogranates\n",
      "['apple', 'banana', 'litchi', 'grapes', 'orange']\n"
     ]
    }
   ],
   "source": [
    "#to remove iteam from last\n",
    "popedIeam=li.pop()\n",
    "print(popedIeam)\n",
    "print(li)"
   ]
  },
  {
   "cell_type": "code",
   "execution_count": 21,
   "metadata": {},
   "outputs": [
    {
     "name": "stdout",
     "output_type": "stream",
     "text": [
      "2\n"
     ]
    }
   ],
   "source": [
    "\n",
    "# to find the index of any iteam\n",
    "index=li.index('litchi')\n",
    "print(index)"
   ]
  },
  {
   "cell_type": "code",
   "execution_count": 22,
   "metadata": {},
   "outputs": [
    {
     "name": "stdout",
     "output_type": "stream",
     "text": [
      "['apple', 'litchi', 'grapes', 'orange']\n"
     ]
    }
   ],
   "source": [
    "#to remove a perticular iteam\n",
    "li.remove('banana')\n",
    "print(li)"
   ]
  },
  {
   "cell_type": "code",
   "execution_count": 29,
   "metadata": {},
   "outputs": [
    {
     "name": "stdout",
     "output_type": "stream",
     "text": [
      "['apple', 'litchi', 'jackfruit', 'jackfruit']\n"
     ]
    }
   ],
   "source": [
    "#to insert iteam at perticular index\n",
    "li.insert(2,'jackfruit')\n",
    "print(li)"
   ]
  },
  {
   "cell_type": "code",
   "execution_count": 31,
   "metadata": {},
   "outputs": [
    {
     "name": "stdout",
     "output_type": "stream",
     "text": [
      "2\n"
     ]
    }
   ],
   "source": [
    "#to count the  perticular iteam\n",
    "countOfIteam=li.count('jackfruit') \n",
    "print(countOfIteam)\n"
   ]
  },
  {
   "cell_type": "code",
   "execution_count": 34,
   "metadata": {},
   "outputs": [
    {
     "data": {
      "text/plain": [
       "['apple', 'jackfruit', 'jackfruit', 'litchi']"
      ]
     },
     "execution_count": 34,
     "metadata": {},
     "output_type": "execute_result"
    }
   ],
   "source": [
    "#to sort the iteam of list in increasing order\n",
    "li.sort()\n",
    "li"
   ]
  },
  {
   "cell_type": "code",
   "execution_count": 36,
   "metadata": {},
   "outputs": [
    {
     "name": "stdout",
     "output_type": "stream",
     "text": [
      "['apple', 'jackfruit', 'jackfruit', 'litchi']\n"
     ]
    }
   ],
   "source": [
    "# to reverse the list\n",
    "li.reverse()\n",
    "print(li)"
   ]
  },
  {
   "cell_type": "code",
   "execution_count": 56,
   "metadata": {},
   "outputs": [
    {
     "name": "stdout",
     "output_type": "stream",
     "text": [
      "[]\n"
     ]
    }
   ],
   "source": [
    "# to deleate all iteam of list\n",
    "li.clear()\n",
    "print(li)\n",
    "li.append(\"litchi\")\n",
    "li.append(\"mango\")\n"
   ]
  },
  {
   "cell_type": "code",
   "execution_count": 57,
   "metadata": {},
   "outputs": [
    {
     "name": "stdout",
     "output_type": "stream",
     "text": [
      "['litchi', 'mango']\n",
      "['litchi', 'mango']\n",
      "['litchi']\n",
      "['litchi', 'mango']\n"
     ]
    }
   ],
   "source": [
    "#to copy list \n",
    "print(li)\n",
    "l2=[]\n",
    "l2=li.copy()\n",
    "print(l2)\n",
    "li.pop()\n",
    "print(li)\n",
    "print(l2)"
   ]
  }
 ],
 "metadata": {
  "kernelspec": {
   "display_name": "Python 3",
   "language": "python",
   "name": "python3"
  },
  "language_info": {
   "codemirror_mode": {
    "name": "ipython",
    "version": 3
   },
   "file_extension": ".py",
   "mimetype": "text/x-python",
   "name": "python",
   "nbconvert_exporter": "python",
   "pygments_lexer": "ipython3",
   "version": "3.12.4"
  }
 },
 "nbformat": 4,
 "nbformat_minor": 2
}
