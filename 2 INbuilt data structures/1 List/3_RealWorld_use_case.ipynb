{
 "cells": [
  {
   "cell_type": "markdown",
   "metadata": {},
   "source": [
    "# #Real World Use cases"
   ]
  },
  {
   "cell_type": "code",
   "execution_count": 10,
   "metadata": {},
   "outputs": [
    {
     "name": "stdout",
     "output_type": "stream",
     "text": [
      "task remaining in to_do_list\n",
      "-BUy Groserry\n",
      "-Pay Bills\n",
      "-Schedule meating\n",
      "-go for walk\n"
     ]
    }
   ],
   "source": [
    "#create a To Do list to keep track of task\n",
    "to_do_list=['BUy Groserry','clean the house','Pay Bills']\n",
    "\n",
    "#Adding iteams\n",
    "to_do_list.append('Schedule meating')\n",
    "to_do_list.append('go for walk')\n",
    "\n",
    "#removing task\n",
    "to_do_list.remove(\"clean the house\")\n",
    "\n",
    "#chaking the task\n",
    "if 'pay Bills' in to_do_list:\n",
    "    print(\"Remainder: Don't forget to pay bills\")\n",
    "print('task remaining in to_do_list')\n",
    "for  task in to_do_list:\n",
    "    print(f'-{task}') "
   ]
  },
  {
   "cell_type": "markdown",
   "metadata": {},
   "source": [
    "managing Grades of student"
   ]
  },
  {
   "cell_type": "code",
   "execution_count": 17,
   "metadata": {},
   "outputs": [
    {
     "name": "stdout",
     "output_type": "stream",
     "text": [
      "average grade is :- 84.5\n",
      "Highest grade is 96\n",
      "lowest grade is 69\n"
     ]
    }
   ],
   "source": [
    "#organising  student grades\n",
    "grades=[96,85,69,78,93]\n",
    "# adding a new grade\n",
    "grades.append(86)\n",
    "#calculating the average grade\n",
    "avg_grade=sum(grades)/len(grades)\n",
    "print(f\"average grade is :- {avg_grade}\")\n",
    "\n",
    "#finding the highest and lowest grade\n",
    "print(f\"Highest grade is {max(grades)}\")\n",
    "print(f\"lowest grade is {min(grades)}\")"
   ]
  },
  {
   "cell_type": "markdown",
   "metadata": {},
   "source": []
  }
 ],
 "metadata": {
  "kernelspec": {
   "display_name": "Python 3",
   "language": "python",
   "name": "python3"
  },
  "language_info": {
   "codemirror_mode": {
    "name": "ipython",
    "version": 3
   },
   "file_extension": ".py",
   "mimetype": "text/x-python",
   "name": "python",
   "nbconvert_exporter": "python",
   "pygments_lexer": "ipython3",
   "version": "3.12.4"
  }
 },
 "nbformat": 4,
 "nbformat_minor": 2
}
