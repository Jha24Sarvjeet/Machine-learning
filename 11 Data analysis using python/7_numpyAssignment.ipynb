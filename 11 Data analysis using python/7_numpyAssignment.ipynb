{
 "cells": [
  {
   "cell_type": "code",
   "execution_count": 1,
   "metadata": {},
   "outputs": [],
   "source": [
    "#importing numpy\n",
    "import numpy as np"
   ]
  },
  {
   "cell_type": "markdown",
   "metadata": {},
   "source": [
    "Create a NumPy array of shape (5, 5) filled with random integers between 1 and 20. Replace all the elements in the third column with 1."
   ]
  },
  {
   "cell_type": "code",
   "execution_count": 2,
   "metadata": {},
   "outputs": [
    {
     "name": "stdout",
     "output_type": "stream",
     "text": [
      "[[10  8  8  7 16]\n",
      " [16  2  4  5 20]\n",
      " [14 18 11  1 16]\n",
      " [ 9 12 20  9  8]\n",
      " [ 7  1 12 10  6]]\n",
      "\n",
      "[[10  1  8  7 16]\n",
      " [16  1  4  5 20]\n",
      " [14  1 11  1 16]\n",
      " [ 9  1 20  9  8]\n",
      " [ 7  1 12 10  6]]\n"
     ]
    }
   ],
   "source": [
    "arr=np.random.randint(1,21,size=(5,5))\n",
    "print(arr)\n",
    "#replacing 1 to third column\n",
    "print()\n",
    "arr[:,1]=1\n",
    "print(arr)"
   ]
  },
  {
   "cell_type": "markdown",
   "metadata": {},
   "source": [
    "Create a NumPy array of shape (4, 4) with values from 1 to 16. Replace the diagonal elements with 0.\n"
   ]
  },
  {
   "cell_type": "code",
   "execution_count": 3,
   "metadata": {},
   "outputs": [
    {
     "name": "stdout",
     "output_type": "stream",
     "text": [
      "original array\n",
      "[[ 1  2  3  4]\n",
      " [ 5  6  7  8]\n",
      " [ 9 10 11 12]\n",
      " [13 14 15 16]]\n",
      "MOdified array\n",
      "[[ 0  2  3  4]\n",
      " [ 5  0  7  8]\n",
      " [ 9 10  0 12]\n",
      " [13 14 15  0]]\n"
     ]
    }
   ],
   "source": [
    "arr=(np.arange(1,17)).reshape(4,4)\n",
    "print(\"original array\")\n",
    "print(arr)\n",
    "np.fill_diagonal(arr,0)\n",
    "\n",
    "print(\"MOdified array\")\n",
    "print(arr)"
   ]
  },
  {
   "cell_type": "markdown",
   "metadata": {},
   "source": [
    "Create a NumPy array of shape (6, 6) with values from 1 to 36. Extract the sub-array consisting of the 3rd to 5th rows and 2nd to 4th columns"
   ]
  },
  {
   "cell_type": "code",
   "execution_count": 4,
   "metadata": {},
   "outputs": [
    {
     "name": "stdout",
     "output_type": "stream",
     "text": [
      "original array \n",
      "\n",
      "[[ 1  2  3  4  5  6]\n",
      " [ 7  8  9 10 11 12]\n",
      " [13 14 15 16 17 18]\n",
      " [19 20 21 22 23 24]\n",
      " [25 26 27 28 29 30]\n",
      " [31 32 33 34 35 36]]\n",
      "[[14 15 16]\n",
      " [20 21 22]\n",
      " [26 27 28]]\n"
     ]
    }
   ],
   "source": [
    "arr=(np.arange(1,37)).reshape(6,6)\n",
    "print(\"original array \\n\")\n",
    "print(arr)\n",
    "#3rd to 5th rows and 2nd to 4th columns\n",
    "sub_array=arr[2:5,1:4]\n",
    "print(sub_array)\n"
   ]
  },
  {
   "cell_type": "markdown",
   "metadata": {},
   "source": [
    "Create a NumPy array of shape (5, 5) with random integers. Extract the elements on the border."
   ]
  },
  {
   "cell_type": "code",
   "execution_count": 5,
   "metadata": {},
   "outputs": [
    {
     "name": "stdout",
     "output_type": "stream",
     "text": [
      "original array\n",
      "[[ 9 82 76 95 56]\n",
      " [37 16 35 77 27]\n",
      " [65 79 29  2  4]\n",
      " [54 79 69 19 53]\n",
      " [49 10  5 64 84]]\n",
      "[ 9 82 76 95 56 49 10  5 64 84 37 65 54 27  4 53]\n"
     ]
    }
   ],
   "source": [
    "arr=np.random.randint(1,100,size=(5,5))\n",
    "print(\"original array\")\n",
    "print(arr)\n",
    "\n",
    "#accessing the border iteam\n",
    "border_element=np.concatenate((arr[0,:],arr[-1,:],arr[1:-1,0],arr[1:-1,-1]))\n",
    "print(border_element)\n"
   ]
  },
  {
   "cell_type": "markdown",
   "metadata": {},
   "source": [
    "Create two NumPy arrays of shape (3, 4) filled with random integers. Perform element-wise addition, subtraction, multiplication, and division."
   ]
  },
  {
   "cell_type": "code",
   "execution_count": 6,
   "metadata": {},
   "outputs": [
    {
     "name": "stdout",
     "output_type": "stream",
     "text": [
      "[[16 10 43 27 31]\n",
      " [ 3 38  8 47 49]\n",
      " [10 40 46 19 27]\n",
      " [14  4 12 26 28]\n",
      " [25  7 44 18  1]]\n",
      "\n",
      "[[36  8 29 47  3]\n",
      " [13 31 29 37  5]\n",
      " [19 34 41 37 36]\n",
      " [40 42  3  7  1]\n",
      " [ 2 44 14 47 24]]\n",
      "Addition\n",
      "[[52 18 72 74 34]\n",
      " [16 69 37 84 54]\n",
      " [29 74 87 56 63]\n",
      " [54 46 15 33 29]\n",
      " [27 51 58 65 25]]\n",
      "Subtraction\n",
      "[[-20   2  14 -20  28]\n",
      " [-10   7 -21  10  44]\n",
      " [ -9   6   5 -18  -9]\n",
      " [-26 -38   9  19  27]\n",
      " [ 23 -37  30 -29 -23]]\n",
      "multipiaction\n",
      "[[ 576   80 1247 1269   93]\n",
      " [  39 1178  232 1739  245]\n",
      " [ 190 1360 1886  703  972]\n",
      " [ 560  168   36  182   28]\n",
      " [  50  308  616  846   24]]\n",
      "Division\n",
      "[[ 0.44444444  1.25        1.48275862  0.57446809 10.33333333]\n",
      " [ 0.23076923  1.22580645  0.27586207  1.27027027  9.8       ]\n",
      " [ 0.52631579  1.17647059  1.12195122  0.51351351  0.75      ]\n",
      " [ 0.35        0.0952381   4.          3.71428571 28.        ]\n",
      " [12.5         0.15909091  3.14285714  0.38297872  0.04166667]]\n"
     ]
    }
   ],
   "source": [
    "arr1=np.random.randint(1,50,size=(5,5))\n",
    "arr2=np.random.randint(1,50,size=(5,5))\n",
    "print(arr1)\n",
    "print()\n",
    "print(arr2)\n",
    "#addition\n",
    "print(\"Addition\")\n",
    "print(arr1+arr2)\n",
    "#Subtraction\n",
    "print(\"Subtraction\")\n",
    "print(arr1-arr2)\n",
    "\n",
    "#multipiaction\n",
    "print(\"multipiaction\")\n",
    "print(arr1*arr2)\n",
    "#Division\n",
    "print(\"Division\")\n",
    "print(arr1/arr2)\n",
    "\n"
   ]
  },
  {
   "cell_type": "markdown",
   "metadata": {},
   "source": [
    "Create a NumPy array of shape (4, 4) with values from 1 to 16. Compute the row-wise and column-wise sum.\n"
   ]
  },
  {
   "cell_type": "code",
   "execution_count": 7,
   "metadata": {},
   "outputs": [
    {
     "name": "stdout",
     "output_type": "stream",
     "text": [
      "original array\n",
      "[[ 1  2  3  4]\n",
      " [ 5  6  7  8]\n",
      " [ 9 10 11 12]\n",
      " [13 14 15 16]]\n"
     ]
    }
   ],
   "source": [
    "arr=(np.arange(1,17)).reshape(4,4)\n",
    "print(\"original array\")\n",
    "print(arr)"
   ]
  },
  {
   "cell_type": "code",
   "execution_count": 8,
   "metadata": {},
   "outputs": [
    {
     "name": "stdout",
     "output_type": "stream",
     "text": [
      "row wise sum\n",
      "[10 26 42 58]\n",
      "column wise sum\n",
      "[28 32 36 40]\n"
     ]
    }
   ],
   "source": [
    "row_wise_sum=np.sum(arr,axis=1)\n",
    "column_wise_sum=np.sum(arr,axis=0)\n",
    "print(\"row wise sum\")\n",
    "print(row_wise_sum)\n",
    "print(\"column wise sum\")\n",
    "print(column_wise_sum)\n"
   ]
  },
  {
   "cell_type": "markdown",
   "metadata": {},
   "source": [
    "Create a NumPy array of shape (5, 5) filled with random integers. Compute the mean, median, standard deviation, and variance of the array."
   ]
  },
  {
   "cell_type": "code",
   "execution_count": 9,
   "metadata": {},
   "outputs": [
    {
     "name": "stdout",
     "output_type": "stream",
     "text": [
      "original array\n",
      "[[25 34 11 16 20]\n",
      " [47  3 16  1 18]\n",
      " [ 1  2 35 13 19]\n",
      " [42 16 24 10 19]\n",
      " [31 43 32 10 37]]\n",
      "mean\n",
      "21.0\n",
      "median\n",
      "19.0\n",
      "standard deviation\n",
      "13.344661854089821\n",
      "vaiance\n",
      "178.08\n"
     ]
    }
   ],
   "source": [
    "arr=np.random.randint(1,50,size=(5,5))\n",
    "print(\"original array\")\n",
    "print(arr)\n",
    "\n",
    "print(\"mean\")\n",
    "print(np.mean(arr))\n",
    "print(\"median\")\n",
    "print(np.median(arr))\n",
    "print(\"standard deviation\")\n",
    "print(np.std(arr))\n",
    "print(\"vaiance\")\n",
    "print(np.var(arr))\n"
   ]
  },
  {
   "cell_type": "markdown",
   "metadata": {},
   "source": [
    " Broadcasting"
   ]
  },
  {
   "cell_type": "markdown",
   "metadata": {},
   "source": [
    "Create a NumPy array of shape (3, 3) filled with random integers. Add a 1D array of shape (3,) to each row of the 2D array using broadcasting."
   ]
  },
  {
   "cell_type": "code",
   "execution_count": 38,
   "metadata": {},
   "outputs": [
    {
     "name": "stdout",
     "output_type": "stream",
     "text": [
      "[[48 16 28]\n",
      " [27 28 44]\n",
      " [39 25 29]]\n",
      "\n",
      "[ 2 27 10]\n",
      "[[50 43 38]\n",
      " [29 55 54]\n",
      " [41 52 39]]\n"
     ]
    }
   ],
   "source": [
    "arr1=np.random.randint(1,50,size=(3,3))\n",
    "print(arr1)\n",
    "\n",
    "arr2=np.random.randint(1,50,size=(3,))\n",
    "print()\n",
    "print(arr2)\n",
    "sum_broadacast=arr1+arr2\n",
    "\n",
    "print(sum_broadacast)"
   ]
  },
  {
   "cell_type": "markdown",
   "metadata": {},
   "source": [
    "Create a NumPy array of shape (4, 4) filled with random integers. Subtract a 1D array of shape (4,) from each column of the 2D array using broadcasting."
   ]
  },
  {
   "cell_type": "code",
   "execution_count": 36,
   "metadata": {},
   "outputs": [
    {
     "name": "stdout",
     "output_type": "stream",
     "text": [
      "[[49 28 40 49]\n",
      " [ 5  3 31 12]\n",
      " [ 7 26 47 15]\n",
      " [32 22 33 26]]\n",
      "\n",
      "[25 29 13  7]\n",
      "\n",
      "[[ 24  -1  27  42]\n",
      " [-20 -26  18   5]\n",
      " [-18  -3  34   8]\n",
      " [  7  -7  20  19]]\n"
     ]
    }
   ],
   "source": [
    "arr1=np.random.randint(1,50,size=(4,4))\n",
    "print(arr1)\n",
    "\n",
    "arr2=np.random.randint(1,50,size=(4,))\n",
    "print()\n",
    "print(arr2)\n",
    "print()\n",
    "sub_broadacast=arr1-arr2\n",
    "\n",
    "print(sub_broadacast)"
   ]
  },
  {
   "cell_type": "markdown",
   "metadata": {},
   "source": [
    "Create a NumPy array of shape (3, 3) representing a matrix. Compute its determinant, inverse, and eigenvalues."
   ]
  },
  {
   "cell_type": "code",
   "execution_count": 56,
   "metadata": {},
   "outputs": [
    {
     "name": "stdout",
     "output_type": "stream",
     "text": [
      "Original array\n",
      "[[2 3 2]\n",
      " [4 5 8]\n",
      " [6 1 7]]\n",
      "determinant\n",
      "61.99999999999995\n",
      "inverse\n",
      "[[ 0.43548387 -0.30645161  0.22580645]\n",
      " [ 0.32258065  0.03225806 -0.12903226]\n",
      " [-0.41935484  0.25806452 -0.03225806]]\n",
      "eigen value\n",
      "[12.20387856+0.j          0.89806072+2.06732654j  0.89806072-2.06732654j]\n",
      "[12.20387856+0.j          0.89806072+2.06732654j  0.89806072-2.06732654j]\n",
      "eigen vector\n",
      "[[-0.33313707+0.j          0.11889488-0.56688297j  0.11889488+0.56688297j]\n",
      " [-0.77743197+0.j          0.58739085+0.j          0.58739085-0.j        ]\n",
      " [-0.53349716+0.j         -0.36062764+0.43523257j -0.36062764-0.43523257j]]\n"
     ]
    }
   ],
   "source": [
    "arr1=np.random.randint(1,10,size=(3,3))\n",
    "print(\"Original array\")\n",
    "print(arr1)\n",
    "print(\"determinant\")\n",
    "determinant=np.linalg.det(arr1)\n",
    "print(determinant)\n",
    "print(\"inverse\")\n",
    "print(np.linalg.inv(arr1))\n",
    "print(\"eigen value\")\n",
    "eg_value=np.linalg.eigvals(arr1)\n",
    "print(eg_value)\n",
    "eigen_value,eigen_vector=np.linalg.eig(arr1)\n",
    "print(eigen_value)\n",
    "print(\"eigen vector\")\n",
    "print(eigen_vector)"
   ]
  },
  {
   "cell_type": "markdown",
   "metadata": {},
   "source": [
    "Create two NumPy arrays of shape (2, 3) and (3, 2). Perform matrix multiplication on these arrays."
   ]
  },
  {
   "cell_type": "code",
   "execution_count": 64,
   "metadata": {},
   "outputs": [
    {
     "name": "stdout",
     "output_type": "stream",
     "text": [
      "[[5 8 8]\n",
      " [8 9 9]]\n",
      "\n",
      "[[2 9]\n",
      " [4 3]\n",
      " [9 1]]\n",
      "matrix multiplication of arr1 and arr2\n",
      "[[114  77]\n",
      " [133 108]]\n"
     ]
    }
   ],
   "source": [
    "arr1=np.random.randint(1,10,size=(2,3))\n",
    "print(arr1)\n",
    "print()\n",
    "\n",
    "arr2=np.random.randint(1,10,size=(3,2))\n",
    "print(arr2)\n",
    "result=np.dot(arr1,arr2)\n",
    "print(\"matrix multiplication of arr1 and arr2\")\n",
    "print(result)"
   ]
  },
  {
   "cell_type": "markdown",
   "metadata": {},
   "source": [
    "Create a NumPy array of shape (3, 3) with values from 1 to 9. Reshape the array to shape (1, 9) and then to shape (9, 1)."
   ]
  },
  {
   "cell_type": "code",
   "execution_count": 71,
   "metadata": {},
   "outputs": [
    {
     "name": "stdout",
     "output_type": "stream",
     "text": [
      "[[1 2 3]\n",
      " [4 5 6]\n",
      " [7 8 9]]\n",
      "[[1 2 3 4 5 6 7 8 9]]\n",
      "[[1]\n",
      " [2]\n",
      " [3]\n",
      " [4]\n",
      " [5]\n",
      " [6]\n",
      " [7]\n",
      " [8]\n",
      " [9]]\n"
     ]
    }
   ],
   "source": [
    "arr=(np.arange(1,10)).reshape(3,3)\n",
    "print(arr)\n",
    "arr1=arr.reshape((1,9))\n",
    "print(arr1)\n",
    "arr2=arr.reshape((9,1))\n",
    "print(arr2)"
   ]
  },
  {
   "cell_type": "markdown",
   "metadata": {},
   "source": [
    "Create a NumPy array of shape (5, 5) filled with random integers. Flatten the array and then reshape it back to (5, 5)."
   ]
  },
  {
   "cell_type": "code",
   "execution_count": 76,
   "metadata": {},
   "outputs": [
    {
     "name": "stdout",
     "output_type": "stream",
     "text": [
      "Original array:\n",
      "[[16  4 13 20  3]\n",
      " [19 17  6  4 11]\n",
      " [13  8 19  2 18]\n",
      " [14  7 18  1 19]\n",
      " [13 17  7  5 20]]\n",
      "Flattened array:\n",
      "[16  4 13 20  3 19 17  6  4 11 13  8 19  2 18 14  7 18  1 19 13 17  7  5\n",
      " 20]\n",
      "Reshaped array:\n",
      "[[16  4 13 20  3]\n",
      " [19 17  6  4 11]\n",
      " [13  8 19  2 18]\n",
      " [14  7 18  1 19]\n",
      " [13 17  7  5 20]]\n"
     ]
    }
   ],
   "source": [
    "# Create a NumPy array of shape (5, 5) filled with random integers\n",
    "array = np.random.randint(1, 21, size=(5, 5))\n",
    "print(\"Original array:\")\n",
    "print(array)\n",
    "\n",
    "# Flatten the array\n",
    "flattened_array = array.flatten()\n",
    "print(\"Flattened array:\")\n",
    "print(flattened_array)\n",
    "\n",
    "# Reshape the array back to (5, 5)\n",
    "reshaped_array = flattened_array.reshape((5, 5))\n",
    "print(\"Reshaped array:\")\n",
    "print(reshaped_array)"
   ]
  },
  {
   "cell_type": "markdown",
   "metadata": {},
   "source": [
    "### Assignment 8: Fancy Indexing and Boolean Indexing\n",
    "\n",
    "1. Create a NumPy array of shape (5, 5) filled with random integers. Use fancy indexing to extract the elements at the corners of the array."
   ]
  },
  {
   "cell_type": "code",
   "execution_count": 78,
   "metadata": {},
   "outputs": [
    {
     "name": "stdout",
     "output_type": "stream",
     "text": [
      "Original array:\n",
      "[[11  2  3  9 15]\n",
      " [17  9 18 14  3]\n",
      " [15  7  3  8 13]\n",
      " [ 4  4  2 12 14]\n",
      " [ 5 13 18 20 16]]\n",
      "Corner elements:\n",
      "[11 15  5 16]\n"
     ]
    }
   ],
   "source": [
    "# Create a NumPy array of shape (5, 5) filled with random integers\n",
    "array = np.random.randint(1, 21, size=(5, 5))\n",
    "print(\"Original array:\")\n",
    "print(array)\n",
    "\n",
    "# Use fancy indexing to extract the elements at the corners of the array\n",
    "corners = array[[0, 0, -1, -1], [0, -1, 0, -1]]\n",
    "print(\"Corner elements:\")\n",
    "print(corners)"
   ]
  },
  {
   "cell_type": "markdown",
   "metadata": {},
   "source": [
    "Create a NumPy array of shape (4, 4) filled with random integers. Use boolean indexing to set all elements greater than 10 to 10."
   ]
  },
  {
   "cell_type": "code",
   "execution_count": 79,
   "metadata": {},
   "outputs": [
    {
     "name": "stdout",
     "output_type": "stream",
     "text": [
      "Original array:\n",
      "[[16 13 18 14]\n",
      " [ 1 12 20 20]\n",
      " [15  5 12 10]\n",
      " [ 3 11  9  7]]\n",
      "Modified array:\n",
      "[[10 10 10 10]\n",
      " [ 1 10 10 10]\n",
      " [10  5 10 10]\n",
      " [ 3 10  9  7]]\n"
     ]
    }
   ],
   "source": [
    "\n",
    "# Create a NumPy array of shape (4, 4) filled with random integers\n",
    "array = np.random.randint(1, 21, size=(4, 4))\n",
    "print(\"Original array:\")\n",
    "print(array)\n",
    "\n",
    "# Use boolean indexing to set all elements greater than 10 to 10\n",
    "array[array > 10] = 10\n",
    "print(\"Modified array:\")\n",
    "print(array)"
   ]
  },
  {
   "cell_type": "markdown",
   "metadata": {},
   "source": [
    "Create a structured array with fields 'name' (string), 'age' (integer), and 'weight' (float). Add some data and sort the array by age."
   ]
  },
  {
   "cell_type": "code",
   "execution_count": 80,
   "metadata": {},
   "outputs": [
    {
     "name": "stdout",
     "output_type": "stream",
     "text": [
      "Original array:\n",
      "[('Alice', 25, 55.5) ('Bob', 30, 85.3) ('Charlie', 20, 65.2)]\n",
      "Sorted array by age:\n",
      "[('Charlie', 20, 65.2) ('Alice', 25, 55.5) ('Bob', 30, 85.3)]\n"
     ]
    }
   ],
   "source": [
    "# Create a structured array with fields 'name', 'age', and 'weight'\n",
    "data_type = [('name', 'U10'), ('age', 'i4'), ('weight', 'f4')]\n",
    "data = np.array([('Alice', 25, 55.5), ('Bob', 30, 85.3), ('Charlie', 20, 65.2)], dtype=data_type)\n",
    "print(\"Original array:\")\n",
    "print(data)\n",
    "\n",
    "# Sort the array by age\n",
    "sorted_data = np.sort(data, order='age')\n",
    "print(\"Sorted array by age:\")\n",
    "print(sorted_data)"
   ]
  },
  {
   "cell_type": "markdown",
   "metadata": {},
   "source": [
    "Create a structured array with fields 'x' and 'y' (both integers). Add some data and compute the Euclidean distance between each pair of points."
   ]
  },
  {
   "cell_type": "code",
   "execution_count": 81,
   "metadata": {},
   "outputs": [
    {
     "name": "stdout",
     "output_type": "stream",
     "text": [
      "Original array:\n",
      "[(1, 2) (3, 4) (5, 6)]\n",
      "Euclidean distances:\n",
      "[[0.         2.82842712 5.65685425]\n",
      " [2.82842712 0.         2.82842712]\n",
      " [5.65685425 2.82842712 0.        ]]\n"
     ]
    }
   ],
   "source": [
    "# Create a structured array with fields 'x' and 'y'\n",
    "data_type = [('x', 'i4'), ('y', 'i4')]\n",
    "data = np.array([(1, 2), (3, 4), (5, 6)], dtype=data_type)\n",
    "print(\"Original array:\")\n",
    "print(data)\n",
    "\n",
    "# Compute the Euclidean distance between each pair of points\n",
    "distances = np.sqrt((data['x'][:, np.newaxis] - data['x'])**2 + (data['y'][:, np.newaxis] - data['y'])**2)\n",
    "print(\"Euclidean distances:\")\n",
    "print(distances)"
   ]
  },
  {
   "cell_type": "markdown",
   "metadata": {},
   "source": [
    " Masked Arrays\n",
    "\n",
    "1. Create a masked array of shape (4, 4) with random integers and mask the elements greater than 10. Compute the sum of the unmasked elements."
   ]
  },
  {
   "cell_type": "code",
   "execution_count": 82,
   "metadata": {},
   "outputs": [
    {
     "name": "stdout",
     "output_type": "stream",
     "text": [
      "Original array:\n",
      "[[10 20  4  4]\n",
      " [ 3 16 13 11]\n",
      " [ 1  9  3 13]\n",
      " [16 11  9 14]]\n",
      "Masked array:\n",
      "[[10 -- 4 4]\n",
      " [3 -- -- --]\n",
      " [1 9 3 --]\n",
      " [-- -- 9 --]]\n",
      "Sum of unmasked elements: 43\n"
     ]
    }
   ],
   "source": [
    "import numpy.ma as ma\n",
    "\n",
    "# Create a masked array of shape (4, 4) with random integers\n",
    "array = np.random.randint(1, 21, size=(4, 4))\n",
    "masked_array = ma.masked_greater(array, 10)\n",
    "print(\"Original array:\")\n",
    "print(array)\n",
    "print(\"Masked array:\")\n",
    "print(masked_array)\n",
    "\n",
    "# Compute the sum of the unmasked elements\n",
    "sum_unmasked = masked_array.sum()\n",
    "print(\"Sum of unmasked elements:\", sum_unmasked)"
   ]
  },
  {
   "cell_type": "markdown",
   "metadata": {},
   "source": [
    "Create a masked array of shape (3, 3) with random integers and mask the diagonal elements. Replace the masked elements with the mean of the unmasked elements."
   ]
  },
  {
   "cell_type": "code",
   "execution_count": 83,
   "metadata": {},
   "outputs": [
    {
     "name": "stdout",
     "output_type": "stream",
     "text": [
      "Original array:\n",
      "[[20  7 15]\n",
      " [12  7 13]\n",
      " [ 2  6 12]]\n",
      "Masked array:\n",
      "[[-- 7 15]\n",
      " [12 -- 13]\n",
      " [2 6 --]]\n",
      "Modified masked array:\n",
      "[[ 9  7 15]\n",
      " [12  9 13]\n",
      " [ 2  6  9]]\n"
     ]
    }
   ],
   "source": [
    "# Create a masked array of shape (3, 3) with random integers\n",
    "array = np.random.randint(1, 21, size=(3, 3))\n",
    "masked_array = ma.masked_array(array, mask=np.eye(3, dtype=bool))\n",
    "print(\"Original array:\")\n",
    "print(array)\n",
    "print(\"Masked array:\")\n",
    "print(masked_array)\n",
    "\n",
    "# Replace the masked elements with the mean of the unmasked elements\n",
    "mean_unmasked = masked_array.mean()\n",
    "masked_array = masked_array.filled(mean_unmasked)\n",
    "print(\"Modified masked array:\")\n",
    "print(masked_array)"
   ]
  }
 ],
 "metadata": {
  "kernelspec": {
   "display_name": "Python 3",
   "language": "python",
   "name": "python3"
  },
  "language_info": {
   "codemirror_mode": {
    "name": "ipython",
    "version": 3
   },
   "file_extension": ".py",
   "mimetype": "text/x-python",
   "name": "python",
   "nbconvert_exporter": "python",
   "pygments_lexer": "ipython3",
   "version": "3.12.4"
  }
 },
 "nbformat": 4,
 "nbformat_minor": 2
}
