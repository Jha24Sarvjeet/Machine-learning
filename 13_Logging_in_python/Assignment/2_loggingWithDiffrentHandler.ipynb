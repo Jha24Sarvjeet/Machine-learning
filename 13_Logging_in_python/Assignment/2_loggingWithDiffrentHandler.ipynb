{
 "cells": [
  {
   "cell_type": "code",
   "execution_count": 1,
   "metadata": {},
   "outputs": [],
   "source": [
    "import logging"
   ]
  },
  {
   "cell_type": "markdown",
   "metadata": {},
   "source": [
    "Logging with Different Handlers\n",
    "\n",
    "Write a Python function to create a logger that logs messages to both a file named `app.log` and the console.\n"
   ]
  },
  {
   "cell_type": "code",
   "execution_count": 2,
   "metadata": {},
   "outputs": [
    {
     "name": "stderr",
     "output_type": "stream",
     "text": [
      "2024-07-20 23:42:41,056-my_logger-DEBUG-This is a debug message\n",
      "2024-07-20 23:42:41,056-my_logger-INFO-This is an info message\n",
      "2024-07-20 23:42:41,056-my_logger-WARNING-This is a warning message\n",
      "2024-07-20 23:42:41,056-my_logger-ERROR-This is an error message\n",
      "2024-07-20 23:42:41,056-my_logger-CRITICAL-This is a critical message\n"
     ]
    }
   ],
   "source": [
    "def logger_with_handler():\n",
    "    logger=logging.getLogger(\"my_logger\")\n",
    "    logger.setLevel(logging.DEBUG)\n",
    "\n",
    "    file_handler=logging.FileHandler(\"app2.log\")\n",
    "    console_handler=logging.StreamHandler()\n",
    "\n",
    "    formatter=logging.Formatter('%(asctime)s-%(name)s-%(levelname)s-%(message)s')\n",
    "    file_handler.setFormatter(formatter)\n",
    "    console_handler.setFormatter(formatter)\n",
    "\n",
    "    logger.addHandler(file_handler)\n",
    "    logger.addHandler(console_handler)\n",
    "\n",
    "    logger.debug('This is a debug message')\n",
    "    logger.info('This is an info message')\n",
    "    logger.warning('This is a warning message')\n",
    "    logger.error('This is an error message')\n",
    "    logger.critical('This is a critical message')\n",
    "\n",
    "logger_with_handler()"
   ]
  },
  {
   "cell_type": "code",
   "execution_count": null,
   "metadata": {},
   "outputs": [],
   "source": []
  }
 ],
 "metadata": {
  "kernelspec": {
   "display_name": "base",
   "language": "python",
   "name": "python3"
  },
  "language_info": {
   "codemirror_mode": {
    "name": "ipython",
    "version": 3
   },
   "file_extension": ".py",
   "mimetype": "text/x-python",
   "name": "python",
   "nbconvert_exporter": "python",
   "pygments_lexer": "ipython3",
   "version": "3.12.4"
  }
 },
 "nbformat": 4,
 "nbformat_minor": 2
}
