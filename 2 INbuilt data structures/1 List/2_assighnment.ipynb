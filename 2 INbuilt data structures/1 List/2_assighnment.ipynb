{
 "cells": [
  {
   "cell_type": "markdown",
   "metadata": {},
   "source": [
    "List Assignment\n"
   ]
  },
  {
   "cell_type": "markdown",
   "metadata": {},
   "source": [
    "Create a list of the first 20 positive integers. Print the list"
   ]
  },
  {
   "cell_type": "code",
   "execution_count": 1,
   "metadata": {},
   "outputs": [
    {
     "data": {
      "text/plain": [
       "[1, 2, 3, 4, 5, 6, 7, 8, 9, 10, 11, 12, 13, 14, 15, 16, 17, 18, 19, 20]"
      ]
     },
     "execution_count": 1,
     "metadata": {},
     "output_type": "execute_result"
    }
   ],
   "source": [
    "positiveNumber=[num for num in range(1,21)]\n",
    "#positiveNumber=list(range(1,21))\n",
    "positiveNumber"
   ]
  },
  {
   "cell_type": "markdown",
   "metadata": {},
   "source": [
    "Print the first, middle, and last elements of the list created in Assignment 1."
   ]
  },
  {
   "cell_type": "code",
   "execution_count": 4,
   "metadata": {},
   "outputs": [
    {
     "name": "stdout",
     "output_type": "stream",
     "text": [
      "first element 1\n",
      "middle element 11\n",
      "last element 20\n"
     ]
    }
   ],
   "source": [
    "print(f\"first element {positiveNumber[0]}\")\n",
    "print(f\"middle element {positiveNumber[len(positiveNumber)//2]}\")\n",
    "print(f\"last element {positiveNumber[len(positiveNumber)-1]}\")"
   ]
  },
  {
   "cell_type": "markdown",
   "metadata": {},
   "source": [
    "Print the first five elements, the last five elements, and the elements from index 5 to 15 of the list created in Assignment 1.\n"
   ]
  },
  {
   "cell_type": "code",
   "execution_count": 8,
   "metadata": {},
   "outputs": [
    {
     "name": "stdout",
     "output_type": "stream",
     "text": [
      "first 5 element [1, 2, 3, 4, 5]\n",
      "last 5 element [17, 18, 19, 20]\n",
      "from 5th to 15th element [6, 7, 8, 9, 10, 11, 12, 13, 14, 15, 16]\n"
     ]
    }
   ],
   "source": [
    "print(f\"first 5 element {positiveNumber[:5]}\")\n",
    "print(f\"last 5 element {positiveNumber[16:]}\")\n",
    "print(f\"from 5th to 15th element {positiveNumber[5:16]}\")"
   ]
  },
  {
   "cell_type": "markdown",
   "metadata": {},
   "source": [
    "Create a new list containing the squares of the first 10 positive integers using a list comprehension. Print the new list."
   ]
  },
  {
   "cell_type": "code",
   "execution_count": 9,
   "metadata": {},
   "outputs": [
    {
     "name": "stdout",
     "output_type": "stream",
     "text": [
      "[1, 4, 9, 16, 25, 36, 49, 64, 81, 100]\n"
     ]
    }
   ],
   "source": [
    "square=[num**2 for num in range(1,11)]\n",
    "print(square)"
   ]
  },
  {
   "cell_type": "markdown",
   "metadata": {},
   "source": [
    "Create a new list containing only the even numbers from the list created in Assignment 1 using a list comprehension. Print the new list."
   ]
  },
  {
   "cell_type": "code",
   "execution_count": 10,
   "metadata": {},
   "outputs": [
    {
     "name": "stdout",
     "output_type": "stream",
     "text": [
      "[2, 4, 6, 8, 10, 12, 14, 16, 18, 20]\n"
     ]
    }
   ],
   "source": [
    "even=[num for num in positiveNumber if num%2==0]\n",
    "print(even)"
   ]
  },
  {
   "cell_type": "markdown",
   "metadata": {},
   "source": [
    "Create a list of random numbers and sort it in ascending and descending order. Remove the duplicates from the list and print the modified list."
   ]
  },
  {
   "cell_type": "code",
   "execution_count": 23,
   "metadata": {},
   "outputs": [
    {
     "name": "stdout",
     "output_type": "stream",
     "text": [
      "[19, 15, 25, 7, 15, 3, 12, 15, 5, 18]\n",
      "sorted list in ascending order\n",
      "[19, 15, 25, 7, 15, 3, 12, 15, 5, 18]\n",
      "[25, 19, 18, 15, 15, 15, 12, 7, 5, 3]\n",
      "unique element\n",
      "[3, 5, 7, 12, 15, 18, 19, 25]\n"
     ]
    }
   ],
   "source": [
    "import random\n",
    "import math\n",
    "randomList=[random.randint(1,25) for i in range(10)]\n",
    "print(randomList)\n",
    "sortedAsc=sorted(randomList)\n",
    "print('sorted list in ascending order')\n",
    "print(randomList)\n",
    "sortedDesc=sorted(randomList,reverse=True)\n",
    "print(sortedDesc)\n",
    "print(\"unique element\")\n",
    "print(list(set(randomList)))\n"
   ]
  },
  {
   "cell_type": "markdown",
   "metadata": {},
   "source": [
    "Create a nested list representing a 3x3 matrix and print the matrix. Access and print the element at the second row and third column."
   ]
  },
  {
   "cell_type": "code",
   "execution_count": 29,
   "metadata": {},
   "outputs": [
    {
     "name": "stdout",
     "output_type": "stream",
     "text": [
      "[[9, 10, 9], [1, 8, 3], [7, 9, 7]]\n",
      "second row [1, 8, 3]\n",
      "third row [7, 9, 7]\n"
     ]
    }
   ],
   "source": [
    "nestedList=[[random.randint(1,10),random.randint(1,10),random.randint(1,10)] for i in range(3) ]\n",
    "print(nestedList)\n",
    "print(f\"second row {nestedList[1]}\")\n",
    "print(f\"third row {nestedList[2]}\")"
   ]
  }
 ],
 "metadata": {
  "kernelspec": {
   "display_name": "Python 3",
   "language": "python",
   "name": "python3"
  },
  "language_info": {
   "codemirror_mode": {
    "name": "ipython",
    "version": 3
   },
   "file_extension": ".py",
   "mimetype": "text/x-python",
   "name": "python",
   "nbconvert_exporter": "python",
   "pygments_lexer": "ipython3",
   "version": "3.12.4"
  }
 },
 "nbformat": 4,
 "nbformat_minor": 2
}
