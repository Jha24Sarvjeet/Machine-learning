{
 "cells": [
  {
   "cell_type": "code",
   "execution_count": 2,
   "metadata": {},
   "outputs": [
    {
     "name": "stdout",
     "output_type": "stream",
     "text": [
      "<bound method Tag.prettify of <!DOCTYPE html>\n",
      "\n",
      "<html lang=\"en\">\n",
      "<head>\n",
      "<meta charset=\"utf-8\"/>\n",
      "<meta content=\"width=device-width, initial-scale=1.0\" name=\"viewport\"/>\n",
      "<title>Web scrapping in python</title>\n",
      "</head>\n",
      "<body>\n",
      "<div>This is first div\n",
      "    <span class=\"first paihla\"><a href=\"https:/youtube.com\"></a></span>\n",
      "</div>\n",
      "<div>this is second div\n",
      "    <span><a href=\"https:/facebook.com\"></a></span>\n",
      "</div>\n",
      "<div id=\"main\">id created</div>\n",
      "<span><a href=\"https:/google.com\"></a></span>\n",
      "<div class=\"Italic\">Italic</div>\n",
      "<div class=\"Italic\">Italic</div>\n",
      "<div class=\"Italic\">Italic</div>\n",
      "<div class=\"Italic\">Italic</div>\n",
      "<div class=\"Italic\">Italic</div>\n",
      "<span id=\"Italic\">Italic with span tag and id</span>\n",
      "<div class=\"container\">\n",
      "<div>children 1</div>\n",
      "<div>children 2</div>\n",
      "<div>children 3</div>\n",
      "<div>children 4</div>\n",
      "<div>children 5</div>\n",
      "</div>\n",
      "</body>\n",
      "</html>>\n"
     ]
    }
   ],
   "source": [
    "import requests\n",
    "from bs4 import BeautifulSoup\n",
    "\n",
    "with open(\"index.html\",'r') as f:\n",
    "    html_docs=f.read()\n",
    "soup=BeautifulSoup(html_docs,'html.parser')\n",
    "print(soup.prettify)\n",
    "\n"
   ]
  },
  {
   "cell_type": "code",
   "execution_count": 3,
   "metadata": {},
   "outputs": [
    {
     "name": "stdout",
     "output_type": "stream",
     "text": [
      "<a href=\"https:/youtube.com\"></a>\n",
      "<a href=\"https:/facebook.com\"></a>\n",
      "<a href=\"https:/google.com\"></a>\n"
     ]
    }
   ],
   "source": [
    "# print(soup.title) # will show tittle of html file\n",
    "# print(soup.title.name)# will show name  of tittle of html file\n",
    "# print(type(soup.title))\n",
    "# print(soup.div) #will show first div\n",
    "# print()\n",
    "# print()\n",
    "# print()\n",
    "# print(soup.find_all('div'))#will show all div element in list\n",
    "# print(soup.find_all('div')[0])#first div\n",
    "# print(soup.find_all('div')[1])#second div\n",
    "\n",
    "# print(soup.a) ##first anchor tag\n",
    "# print(soup.find_all('a'))# will show all anchor tag on list \n",
    "for link in soup.find_all('a'):\n",
    "    print(link)\n"
   ]
  },
  {
   "cell_type": "code",
   "execution_count": 4,
   "metadata": {},
   "outputs": [
    {
     "name": "stdout",
     "output_type": "stream",
     "text": [
      "None\n"
     ]
    }
   ],
   "source": [
    "s=soup.find(id='main')\n",
    "print(s.get(\"href\"))"
   ]
  },
  {
   "cell_type": "code",
   "execution_count": 5,
   "metadata": {},
   "outputs": [
    {
     "name": "stdout",
     "output_type": "stream",
     "text": [
      "\n",
      "\n",
      "\n",
      "\n",
      "\n",
      "Web scrapping in python\n",
      "\n",
      "\n",
      "This is first div\n",
      "    \n",
      "\n",
      "this is second div\n",
      "    \n",
      "\n",
      "id created\n",
      "\n",
      "Italic\n",
      "Italic\n",
      "Italic\n",
      "Italic\n",
      "Italic\n",
      "Italic with span tag and id\n",
      "\n",
      "children 1\n",
      "children 2\n",
      "children 3\n",
      "children 4\n",
      "children 5\n",
      "\n",
      "\n",
      "\n"
     ]
    }
   ],
   "source": [
    "print(soup.get_text()) #to get all text\n"
   ]
  },
  {
   "cell_type": "code",
   "execution_count": 6,
   "metadata": {},
   "outputs": [
    {
     "name": "stdout",
     "output_type": "stream",
     "text": [
      "[<div class=\"Italic\">Italic</div>, <div class=\"Italic\">Italic</div>, <div class=\"Italic\">Italic</div>, <div class=\"Italic\">Italic</div>, <div class=\"Italic\">Italic</div>]\n"
     ]
    }
   ],
   "source": [
    "print(soup.select(\"div.Italic\")) #will show all class having class name Italic inside div"
   ]
  },
  {
   "cell_type": "code",
   "execution_count": 7,
   "metadata": {},
   "outputs": [
    {
     "name": "stdout",
     "output_type": "stream",
     "text": [
      "['first', 'paihla']\n"
     ]
    }
   ],
   "source": [
    "print(soup.span.get('class')) #will show  class of span"
   ]
  },
  {
   "cell_type": "code",
   "execution_count": 8,
   "metadata": {},
   "outputs": [
    {
     "name": "stdout",
     "output_type": "stream",
     "text": [
      "[<div class=\"Italic\">Italic</div>, <div class=\"Italic\">Italic</div>, <div class=\"Italic\">Italic</div>, <div class=\"Italic\">Italic</div>, <div class=\"Italic\">Italic</div>]\n"
     ]
    }
   ],
   "source": [
    "print(soup.find_all(class_='Italic')) #will show all class of Italic"
   ]
  },
  {
   "cell_type": "code",
   "execution_count": 9,
   "metadata": {},
   "outputs": [],
   "source": [
    "# for child in soup.find(class_='container').children:\n",
    "#     print(child)"
   ]
  }
 ],
 "metadata": {
  "kernelspec": {
   "display_name": "base",
   "language": "python",
   "name": "python3"
  },
  "language_info": {
   "codemirror_mode": {
    "name": "ipython",
    "version": 3
   },
   "file_extension": ".py",
   "mimetype": "text/x-python",
   "name": "python",
   "nbconvert_exporter": "python",
   "pygments_lexer": "ipython3",
   "version": "3.12.4"
  }
 },
 "nbformat": 4,
 "nbformat_minor": 2
}
