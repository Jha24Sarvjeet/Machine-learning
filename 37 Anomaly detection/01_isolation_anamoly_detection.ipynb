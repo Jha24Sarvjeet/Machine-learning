{
 "cells": [
  {
   "cell_type": "code",
   "execution_count": 1,
   "metadata": {},
   "outputs": [],
   "source": [
    "import numpy as np\n",
    "import pandas as pd\n",
    "import seaborn as sns\n",
    "import matplotlib.pyplot as plt\n",
    "import warnings \n",
    "warnings.filterwarnings('ignore')\n",
    "%matplotlib inline\n"
   ]
  },
  {
   "cell_type": "code",
   "execution_count": 3,
   "metadata": {},
   "outputs": [
    {
     "data": {
      "text/html": [
       "<div>\n",
       "<style scoped>\n",
       "    .dataframe tbody tr th:only-of-type {\n",
       "        vertical-align: middle;\n",
       "    }\n",
       "\n",
       "    .dataframe tbody tr th {\n",
       "        vertical-align: top;\n",
       "    }\n",
       "\n",
       "    .dataframe thead th {\n",
       "        text-align: right;\n",
       "    }\n",
       "</style>\n",
       "<table border=\"1\" class=\"dataframe\">\n",
       "  <thead>\n",
       "    <tr style=\"text-align: right;\">\n",
       "      <th></th>\n",
       "      <th>0</th>\n",
       "      <th>1</th>\n",
       "    </tr>\n",
       "  </thead>\n",
       "  <tbody>\n",
       "    <tr>\n",
       "      <th>0</th>\n",
       "      <td>1.616671</td>\n",
       "      <td>1.944522</td>\n",
       "    </tr>\n",
       "    <tr>\n",
       "      <th>1</th>\n",
       "      <td>1.256461</td>\n",
       "      <td>1.609444</td>\n",
       "    </tr>\n",
       "    <tr>\n",
       "      <th>2</th>\n",
       "      <td>-2.343919</td>\n",
       "      <td>4.392961</td>\n",
       "    </tr>\n",
       "    <tr>\n",
       "      <th>3</th>\n",
       "      <td>1.195393</td>\n",
       "      <td>2.794485</td>\n",
       "    </tr>\n",
       "    <tr>\n",
       "      <th>4</th>\n",
       "      <td>-3.329586</td>\n",
       "      <td>5.303160</td>\n",
       "    </tr>\n",
       "  </tbody>\n",
       "</table>\n",
       "</div>"
      ],
      "text/plain": [
       "          0         1\n",
       "0  1.616671  1.944522\n",
       "1  1.256461  1.609444\n",
       "2 -2.343919  4.392961\n",
       "3  1.195393  2.794485\n",
       "4 -3.329586  5.303160"
      ]
     },
     "execution_count": 3,
     "metadata": {},
     "output_type": "execute_result"
    }
   ],
   "source": [
    "#reading dataset\n",
    "df=pd.read_csv('healthcare.csv')\n",
    "df.head()"
   ]
  },
  {
   "cell_type": "code",
   "execution_count": 5,
   "metadata": {},
   "outputs": [
    {
     "data": {
      "text/plain": [
       "<matplotlib.collections.PathCollection at 0x1ca14c60620>"
      ]
     },
     "execution_count": 5,
     "metadata": {},
     "output_type": "execute_result"
    },
    {
     "data": {
      "image/png": "[encoded data removed]",
      "text/plain": [
       "<Figure size 640x480 with 1 Axes>"
      ]
     },
     "metadata": {},
     "output_type": "display_data"
    }
   ],
   "source": [
    "plt.scatter(df.iloc[:,0],df.iloc[:,1])"
   ]
  },
  {
   "cell_type": "code",
   "execution_count": 7,
   "metadata": {},
   "outputs": [],
   "source": [
    "from sklearn.ensemble import IsolationForest\n",
    "isf=IsolationForest(contamination=0.2)\n",
    "isf.fit(df)\n",
    "prediction=isf.predict(df)"
   ]
  },
  {
   "cell_type": "code",
   "execution_count": 8,
   "metadata": {},
   "outputs": [
    {
     "data": {
      "text/plain": [
       "array([ 1,  1,  1,  1, -1,  1,  1,  1,  1,  1,  1,  1,  1,  1,  1,  1,  1,\n",
       "        1,  1,  1, -1,  1,  1,  1, -1,  1,  1,  1,  1,  1,  1, -1,  1,  1,\n",
       "        1,  1,  1,  1,  1,  1,  1,  1,  1,  1,  1, -1,  1,  1, -1, -1,  1,\n",
       "        1,  1, -1,  1, -1,  1,  1,  1,  1, -1, -1, -1, -1,  1,  1,  1, -1,\n",
       "        1,  1,  1,  1, -1,  1, -1,  1,  1,  1, -1,  1,  1,  1,  1, -1,  1,\n",
       "       -1,  1, -1,  1,  1,  1,  1, -1,  1,  1,  1,  1, -1,  1,  1,  1,  1,\n",
       "        1,  1, -1,  1,  1,  1, -1,  1,  1,  1,  1,  1, -1,  1,  1,  1,  1,\n",
       "       -1,  1,  1,  1,  1,  1,  1, -1,  1,  1,  1, -1,  1,  1, -1,  1,  1,\n",
       "        1,  1,  1,  1,  1, -1,  1,  1,  1,  1,  1,  1,  1,  1,  1, -1,  1,\n",
       "        1,  1,  1,  1,  1,  1,  1, -1,  1,  1,  1,  1,  1, -1, -1,  1,  1,\n",
       "        1,  1,  1,  1,  1,  1,  1, -1,  1, -1,  1,  1, -1,  1,  1,  1,  1,\n",
       "       -1,  1,  1,  1,  1,  1,  1,  1,  1,  1, -1,  1, -1,  1,  1,  1,  1,\n",
       "       -1,  1,  1,  1,  1,  1,  1,  1, -1,  1,  1,  1,  1, -1,  1,  1, -1,\n",
       "       -1,  1,  1,  1,  1,  1, -1,  1,  1,  1,  1,  1,  1,  1,  1,  1,  1,\n",
       "        1,  1,  1,  1, -1,  1, -1,  1,  1, -1, -1,  1])"
      ]
     },
     "execution_count": 8,
     "metadata": {},
     "output_type": "execute_result"
    }
   ],
   "source": [
    "prediction"
   ]
  },
  {
   "cell_type": "code",
   "execution_count": 12,
   "metadata": {},
   "outputs": [
    {
     "data": {
      "text/plain": [
       "(array([  4,  20,  24,  31,  45,  48,  49,  53,  55,  60,  61,  62,  63,\n",
       "         67,  72,  74,  78,  83,  85,  87,  92,  97, 104, 108, 114, 119,\n",
       "        126, 130, 133, 141, 151, 160, 166, 167, 177, 179, 182, 187, 197,\n",
       "        199, 204, 212, 217, 220, 221, 227, 242, 244, 247, 248], dtype=int64),)"
      ]
     },
     "execution_count": 12,
     "metadata": {},
     "output_type": "execute_result"
    }
   ],
   "source": [
    "\n",
    "index_of_outlier=np.where(prediction<0)\n",
    "index_of_outlier"
   ]
  },
  {
   "cell_type": "code",
   "execution_count": 14,
   "metadata": {},
   "outputs": [
    {
     "data": {
      "text/plain": [
       "array([[ 1.61667145,  1.94452201],\n",
       "       [ 1.2564615 ,  1.60944428],\n",
       "       [-2.34391881,  4.3929613 ],\n",
       "       [ 1.19539251,  2.79448461],\n",
       "       [-3.32958612,  5.30315976],\n",
       "       [ 1.6241983 ,  1.21875334],\n",
       "       [ 0.45611969,  1.80757419],\n",
       "       [ 0.62304325,  2.04424325],\n",
       "       [-2.05908202,  4.6599109 ],\n",
       "       [ 2.16307638,  1.39149293],\n",
       "       [-2.13386677,  4.43599433],\n",
       "       [-1.65311342,  4.92021328],\n",
       "       [ 0.75047316,  2.23811621],\n",
       "       [-1.71073925,  5.17482723],\n",
       "       [ 0.86102444,  2.2819114 ],\n",
       "       [-1.86274182,  4.55454246],\n",
       "       [ 1.48027244,  1.79983231],\n",
       "       [ 1.45223088,  2.69933991],\n",
       "       [-1.65509092,  5.65092311],\n",
       "       [ 1.22887123,  1.28838807],\n",
       "       [ 9.39915672, -1.97148327],\n",
       "       [ 2.04025339,  2.07645291],\n",
       "       [ 0.890442  ,  1.09480523],\n",
       "       [-2.35235014,  5.47163036],\n",
       "       [ 0.56612677,  6.08881822],\n",
       "       [-2.38207196,  4.28110426],\n",
       "       [-2.57809122,  5.39059905],\n",
       "       [-1.92902342,  4.84033579],\n",
       "       [-2.40668213,  4.26678784],\n",
       "       [ 0.37027151,  1.3510818 ],\n",
       "       [-1.62640583,  4.40552752],\n",
       "       [ 0.30561087,  2.86554278],\n",
       "       [-2.14591868,  4.61925389],\n",
       "       [-2.15450648,  4.1619981 ],\n",
       "       [ 2.57294545,  2.52855114],\n",
       "       [ 1.21777614,  2.35571155],\n",
       "       [-2.06505348,  5.04697661],\n",
       "       [ 1.76349787,  0.73041945],\n",
       "       [ 0.35886116,  1.82394758],\n",
       "       [-1.92174673,  5.11609052],\n",
       "       [-2.34200545,  5.8297754 ],\n",
       "       [ 1.64579248,  2.18364733],\n",
       "       [-1.73946756,  4.71210602],\n",
       "       [ 2.36372527,  0.84065629],\n",
       "       [ 1.90361357,  1.35419087],\n",
       "       [ 6.85875323, -3.01487906],\n",
       "       [ 1.21046671,  0.97678163],\n",
       "       [ 1.02927769,  1.24831279],\n",
       "       [ 4.1344601 ,  7.94336944],\n",
       "       [ 2.18511659,  3.06862524],\n",
       "       [ 1.02796714,  1.52228139],\n",
       "       [ 2.09978143,  1.04428208],\n",
       "       [ 0.87854998,  0.11344247],\n",
       "       [ 8.52106358, -2.01132433],\n",
       "       [-2.4779725 ,  4.82700911],\n",
       "       [-1.36397675, -3.4204594 ],\n",
       "       [-1.8145875 ,  5.0710309 ],\n",
       "       [ 0.96105875,  1.87747443],\n",
       "       [ 1.53203096,  1.3689713 ],\n",
       "       [ 1.93766202,  0.37855964],\n",
       "       [-1.25275773,  3.96500749],\n",
       "       [-3.12778211,  4.48874658],\n",
       "       [ 3.01426516,  2.43556956],\n",
       "       [ 2.30064995,  5.24830334],\n",
       "       [-2.0308132 ,  4.94634736],\n",
       "       [ 1.81070426,  1.73357203],\n",
       "       [-1.57918437,  4.87527071],\n",
       "       [-2.07883351,  6.12836175],\n",
       "       [-2.88426923,  5.1777409 ],\n",
       "       [ 0.72693166,  1.53651556],\n",
       "       [-2.34602492,  5.76818853],\n",
       "       [-2.87794529,  5.22546723],\n",
       "       [ 9.08655526, -0.82875309],\n",
       "       [ 0.6106605 ,  2.1785777 ],\n",
       "       [ 7.80965481,  3.97277003],\n",
       "       [-2.06644029,  4.85110456],\n",
       "       [-1.57103804,  5.57055093],\n",
       "       [-2.9681399 ,  5.0943893 ],\n",
       "       [ 6.17256078,  2.98043516],\n",
       "       [-2.10345184,  5.44008946],\n",
       "       [-3.04730154,  5.06186096],\n",
       "       [-2.31871851,  4.80136409],\n",
       "       [ 1.6008305 ,  2.51799145],\n",
       "       [ 0.67857605, -2.44627503],\n",
       "       [ 1.25220426,  0.53753409],\n",
       "       [-0.18192636,  9.54851332],\n",
       "       [ 1.54656206,  1.71173033],\n",
       "       [-5.59329397, -4.27373717],\n",
       "       [ 0.64219514,  2.09105408],\n",
       "       [-2.65326343,  5.82906534],\n",
       "       [ 0.76601292,  0.50598744],\n",
       "       [ 0.59500016,  1.68693561],\n",
       "       [-4.08215412, -0.59815726],\n",
       "       [ 1.70876672,  2.42847013],\n",
       "       [ 2.33162085,  1.72185983],\n",
       "       [-2.19972451,  5.18502794],\n",
       "       [-1.53524744,  5.2911123 ],\n",
       "       [ 6.33547488,  1.90072954],\n",
       "       [-1.4657453 ,  4.7733071 ],\n",
       "       [ 1.97060633,  1.78522329],\n",
       "       [-2.06797485,  5.56844568],\n",
       "       [ 1.92985556,  2.14554467],\n",
       "       [-2.47222313,  4.79497515],\n",
       "       [-2.22046132,  4.85982225],\n",
       "       [-1.24000257,  5.85979465],\n",
       "       [-2.59442963,  4.74659182],\n",
       "       [ 2.3251457 ,  1.37405261],\n",
       "       [-2.29932697,  4.44205151],\n",
       "       [-5.88876591,  2.17195684],\n",
       "       [ 2.54585535,  1.35638922],\n",
       "       [-2.05527033,  5.51008636],\n",
       "       [-1.85682816,  5.30442192],\n",
       "       [ 1.71914739,  0.90213298],\n",
       "       [ 2.16459456,  1.56128587],\n",
       "       [-2.3530374 ,  0.83372462],\n",
       "       [ 1.05597453,  1.24608118],\n",
       "       [-2.02108573,  4.8565564 ],\n",
       "       [-0.87034552,  4.97887142],\n",
       "       [-1.42383422,  5.5398093 ],\n",
       "       [ 8.87516244,  6.92992607],\n",
       "       [-2.84905291,  5.19364024],\n",
       "       [-2.36279869,  4.30831802],\n",
       "       [ 1.4277468 ,  1.78741895],\n",
       "       [-2.09252684,  4.59617576],\n",
       "       [-2.35980219,  4.59350351],\n",
       "       [-1.98068472,  4.17164245],\n",
       "       [-0.9703043 ,  2.13713106],\n",
       "       [ 1.50735001,  2.75010935],\n",
       "       [-2.31404378,  4.75948644],\n",
       "       [-1.66680846,  4.76964011],\n",
       "       [ 5.3097175 ,  5.66411469],\n",
       "       [-1.26671064,  5.42627597],\n",
       "       [ 1.04946712, -0.05638221],\n",
       "       [ 6.34032555, -4.81528557],\n",
       "       [ 0.67881362,  2.86053483],\n",
       "       [-1.73805449,  5.04421104],\n",
       "       [ 1.86629366,  1.37991757],\n",
       "       [ 2.29758048,  0.63562193],\n",
       "       [-2.5634129 ,  4.63466112],\n",
       "       [-1.95113752,  5.29147684],\n",
       "       [-1.97525251,  5.24691839],\n",
       "       [-5.49713303,  4.18256658],\n",
       "       [ 2.13712524,  1.72205275],\n",
       "       [-2.32620429,  4.80452331],\n",
       "       [ 0.57886481,  1.17689078],\n",
       "       [-2.29865803,  4.88103914],\n",
       "       [-1.59274009,  5.02946279],\n",
       "       [ 0.68439511,  2.13057854],\n",
       "       [-2.23179799,  5.24074074],\n",
       "       [-2.00784106,  5.08046408],\n",
       "       [ 0.86489114,  1.53636178],\n",
       "       [ 7.08823625,  7.77168933],\n",
       "       [-2.15544309,  5.04870008],\n",
       "       [-2.66712924,  4.32664125],\n",
       "       [ 2.14460118,  1.72310936],\n",
       "       [ 2.28864515,  0.74404794],\n",
       "       [-2.71203045,  4.75334006],\n",
       "       [ 1.69594722,  1.43129473],\n",
       "       [-2.06685078,  5.5388719 ],\n",
       "       [ 0.97867162,  0.92149302],\n",
       "       [-3.01534223,  6.03224643],\n",
       "       [-2.1924399 ,  5.04717579],\n",
       "       [ 2.10510534,  0.98048449],\n",
       "       [-2.17671587,  4.19176291],\n",
       "       [-1.02204385,  5.19504666],\n",
       "       [-1.61337351,  4.40805968],\n",
       "       [ 3.16820134,  2.16113564],\n",
       "       [ 5.67369885,  4.20091954],\n",
       "       [ 2.36120348,  2.34166589],\n",
       "       [ 1.48297171,  0.98337836],\n",
       "       [-1.17593253,  5.08211388],\n",
       "       [ 0.9823059 ,  2.58011022],\n",
       "       [-1.65423062,  5.34737457],\n",
       "       [ 0.9307976 ,  0.29160218],\n",
       "       [ 1.28191323,  1.53931574],\n",
       "       [-2.15455722,  4.88326667],\n",
       "       [ 1.15137728,  2.85067244],\n",
       "       [-1.80047683,  3.61370362],\n",
       "       [ 2.03272641,  1.58517251],\n",
       "       [ 6.91904248,  8.3374608 ],\n",
       "       [-2.49275537,  4.2640825 ],\n",
       "       [-0.84804165,  4.46999209],\n",
       "       [ 3.08882824,  0.48194403],\n",
       "       [ 1.78163915,  1.02063294],\n",
       "       [-1.67834277,  4.2146883 ],\n",
       "       [ 2.05042957,  1.17350663],\n",
       "       [-2.27143074,  5.20802502],\n",
       "       [-1.02428285, -0.79706685],\n",
       "       [ 0.69677194,  1.19352597],\n",
       "       [-1.78687063,  5.33845402],\n",
       "       [ 2.84605942,  2.53636035],\n",
       "       [ 1.6084632 ,  1.76471376],\n",
       "       [-2.72326735,  5.40014897],\n",
       "       [ 1.05490775,  1.97350331],\n",
       "       [-2.52262668,  5.60557264],\n",
       "       [-1.53407581,  5.16998249],\n",
       "       [-2.18234677,  5.07835193],\n",
       "       [-0.28709287,  1.95753302],\n",
       "       [-1.13363941,  5.34225055],\n",
       "       [ 1.95597609, -1.18594704],\n",
       "       [-1.31773408,  4.65527541],\n",
       "       [-1.65077143,  5.00188544],\n",
       "       [ 1.31239764,  2.06171948],\n",
       "       [-2.57867763,  4.84385387],\n",
       "       [ 3.75302934,  2.04286437],\n",
       "       [ 1.47250203,  0.68233455],\n",
       "       [-1.71635486,  4.88866245],\n",
       "       [-2.23982791,  5.31017915],\n",
       "       [ 1.24157271,  1.33243458],\n",
       "       [ 2.81820549,  0.55656866],\n",
       "       [-2.00851021,  5.18957587],\n",
       "       [-1.85977915,  4.50343819],\n",
       "       [-1.44255209, -5.40980884],\n",
       "       [ 0.89714202,  2.83704547],\n",
       "       [ 2.80729059,  0.81590548],\n",
       "       [ 1.18112725,  1.51223541],\n",
       "       [ 0.93761324,  1.01731516],\n",
       "       [-0.9119444 , -4.23916921],\n",
       "       [-1.61666841,  5.17814641],\n",
       "       [ 0.79984926,  0.41866023],\n",
       "       [ 8.28094398,  2.62947587],\n",
       "       [-2.33922935, -4.76832144],\n",
       "       [ 2.01036339,  1.59028804],\n",
       "       [ 1.43108323,  1.0355652 ],\n",
       "       [-2.92153478,  4.761013  ],\n",
       "       [ 0.77603001,  1.97711616],\n",
       "       [ 1.58883846,  1.78139255],\n",
       "       [-0.26454834, -4.14609505],\n",
       "       [ 1.94809207,  0.36813077],\n",
       "       [ 1.74945648,  1.99460122],\n",
       "       [ 0.87317341,  1.77083175],\n",
       "       [ 2.16506189,  1.39404995],\n",
       "       [-2.29815702,  4.97371635],\n",
       "       [-2.3261468 ,  4.73940534],\n",
       "       [ 1.14324347,  1.19334799],\n",
       "       [ 1.7772047 ,  0.73485694],\n",
       "       [-2.09532675,  4.80257524],\n",
       "       [-2.7914692 ,  5.30518969],\n",
       "       [ 2.80729127,  2.13423126],\n",
       "       [ 1.82596371,  0.42462942],\n",
       "       [ 1.0138025 ,  1.39525582],\n",
       "       [-2.77039851,  5.031631  ],\n",
       "       [-0.7056316 , -4.9830664 ],\n",
       "       [ 2.73483664,  1.78011005],\n",
       "       [ 2.54177654,  2.82712242],\n",
       "       [ 2.26976172,  1.95868461],\n",
       "       [ 1.1424364 ,  0.67355747],\n",
       "       [ 8.19540388,  1.5554388 ],\n",
       "       [-4.08649206,  5.4119166 ],\n",
       "       [-1.75312911,  4.94194803]])"
      ]
     },
     "execution_count": 14,
     "metadata": {},
     "output_type": "execute_result"
    }
   ],
   "source": [
    "x=df.values\n",
    "x"
   ]
  },
  {
   "cell_type": "code",
   "execution_count": 18,
   "metadata": {},
   "outputs": [
    {
     "data": {
      "text/plain": [
       "<matplotlib.collections.PathCollection at 0x1ca1838c770>"
      ]
     },
     "execution_count": 18,
     "metadata": {},
     "output_type": "execute_result"
    },
    {
     "data": {
      "image/png": "[encoded data removed]",
      "text/plain": [
       "<Figure size 640x480 with 1 Axes>"
      ]
     },
     "metadata": {},
     "output_type": "display_data"
    }
   ],
   "source": [
    "plt.scatter(df.iloc[:,0],df.iloc[:,1])\n",
    "plt.scatter(x[index_of_outlier,0],x[index_of_outlier,1],c='r')"
   ]
  }
 ],
 "metadata": {
  "kernelspec": {
   "display_name": "base",
   "language": "python",
   "name": "python3"
  },
  "language_info": {
   "codemirror_mode": {
    "name": "ipython",
    "version": 3
   },
   "file_extension": ".py",
   "mimetype": "text/x-python",
   "name": "python",
   "nbconvert_exporter": "python",
   "pygments_lexer": "ipython3",
   "version": "3.12.4"
  }
 },
 "nbformat": 4,
 "nbformat_minor": 2
}
