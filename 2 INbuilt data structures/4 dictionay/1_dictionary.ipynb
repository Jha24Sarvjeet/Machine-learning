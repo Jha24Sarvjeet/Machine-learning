{
 "cells": [
  {
   "cell_type": "markdown",
   "metadata": {},
   "source": [
    "Dictionary"
   ]
  },
  {
   "cell_type": "code",
   "execution_count": 2,
   "metadata": {},
   "outputs": [
    {
     "name": "stdout",
     "output_type": "stream",
     "text": [
      "{}\n",
      "<class 'dict'>\n"
     ]
    }
   ],
   "source": [
    "#creating empy dictionary\n",
    "empty_dict=dict()\n",
    "print(empty_dict)\n",
    "print(type(empty_dict))"
   ]
  },
  {
   "cell_type": "code",
   "execution_count": 4,
   "metadata": {},
   "outputs": [
    {
     "name": "stdout",
     "output_type": "stream",
     "text": [
      "{'name': 'amit', 'age': 15}\n"
     ]
    }
   ],
   "source": [
    "student={'name':'amit','age':15}\n",
    "print(student)"
   ]
  },
  {
   "cell_type": "code",
   "execution_count": 7,
   "metadata": {},
   "outputs": [
    {
     "name": "stdout",
     "output_type": "stream",
     "text": [
      "{'name': 'rajat', 'age': 15}\n"
     ]
    }
   ],
   "source": [
    "\n",
    "#key must be unique if more then one key is given tyhen the last key value pair will be taken\n",
    "student={'name':'amit','age':15,'name':'rajat'}\n",
    "print(student)"
   ]
  },
  {
   "cell_type": "code",
   "execution_count": 12,
   "metadata": {},
   "outputs": [
    {
     "name": "stdout",
     "output_type": "stream",
     "text": [
      "{'name': 'amit', 'age': 15, 'grade': 'A'}\n",
      "dict_keys(['name', 'age', 'grade'])\n",
      "['name', 'age', 'grade']\n",
      "dict_values(['amit', 15, 'A'])\n",
      "['amit', 15, 'A']\n"
     ]
    }
   ],
   "source": [
    "student={'name':'amit','age':15,'grade':'A'}\n",
    "print(student)\n",
    "print(student.keys())#to get the all keys \n",
    "print(list(student.keys()))#to get the all keys \n",
    "print(student.values())\n",
    "print(list(student.values()))"
   ]
  },
  {
   "cell_type": "code",
   "execution_count": 16,
   "metadata": {},
   "outputs": [
    {
     "name": "stdout",
     "output_type": "stream",
     "text": [
      "amit\n",
      "15\n"
     ]
    }
   ],
   "source": [
    "#accessing the dictionary element\n",
    "student={'name':'amit','age':15}\n",
    "print(student['name'])\n",
    "print(student.get('age'))"
   ]
  },
  {
   "cell_type": "code",
   "execution_count": 22,
   "metadata": {},
   "outputs": [
    {
     "name": "stdout",
     "output_type": "stream",
     "text": [
      "None\n"
     ]
    }
   ],
   "source": [
    "# in case the key is not present the get wil return NONE\n",
    "#but normal way gives error\n",
    "student={'name':'amit','age':15}\n",
    "# print(student['grade'])#error\n",
    "print(student.get('grade'))"
   ]
  },
  {
   "cell_type": "markdown",
   "metadata": {},
   "source": [
    "Note :- dictionary is mutable"
   ]
  },
  {
   "cell_type": "code",
   "execution_count": 30,
   "metadata": {},
   "outputs": [
    {
     "name": "stdout",
     "output_type": "stream",
     "text": [
      "{'name': 'amit', 'age': 15, 'Grade': 'A'}\n",
      "{'name': 'amit', 'age': 21, 'Grade': 'A'}\n",
      "{'name': 'amit', 'age': 21}\n"
     ]
    }
   ],
   "source": [
    "student={'name':'amit','age':15}\n",
    "#adding new key value\n",
    "student['Grade']='A'\n",
    "print(student)\n",
    "\n",
    "#update old values\n",
    "student['age']=21\n",
    "print(student)\n",
    "\n",
    "\n",
    "#deleting key value\n",
    "del student['Grade']\n",
    "print(student)"
   ]
  },
  {
   "cell_type": "markdown",
   "metadata": {},
   "source": [
    "Dictionary methods"
   ]
  },
  {
   "cell_type": "code",
   "execution_count": 39,
   "metadata": {},
   "outputs": [
    {
     "name": "stdout",
     "output_type": "stream",
     "text": [
      "dict_keys(['name', 'age'])\n",
      "['name', 'age']\n",
      "dict_values(['amit', 15])\n",
      "['amit', 15]\n",
      "dict_items([('name', 'amit'), ('age', 15)])\n",
      "[('name', 'amit'), ('age', 15)]\n"
     ]
    }
   ],
   "source": [
    "student={'name':'amit','age':15}\n",
    "print(student.keys()) #get all keys\n",
    "print(list(student.keys())) #get all keys\n",
    "print(student.values())# get all values\n",
    "print(list(student.values()))# get all values\n",
    "print(student.items())#get all key value pair\n",
    "print(list(student.items()))#get all key value pair"
   ]
  },
  {
   "cell_type": "code",
   "execution_count": 41,
   "metadata": {},
   "outputs": [
    {
     "name": "stdout",
     "output_type": "stream",
     "text": [
      "{'name': 'amit', 'age': 15}\n",
      "{'name': 'amit', 'age': 15}\n"
     ]
    }
   ],
   "source": [
    "#shallow copy\n",
    "student={'name':'amit','age':15}\n",
    "\n",
    "student_copy=student\n",
    "print(student)\n",
    "print(student_copy)\n",
    "\n"
   ]
  },
  {
   "cell_type": "code",
   "execution_count": 46,
   "metadata": {},
   "outputs": [
    {
     "name": "stdout",
     "output_type": "stream",
     "text": [
      "{'name': 'ram', 'age': 15}\n",
      "{'name': 'ram', 'age': 15}\n",
      "{'name': 'Rohan', 'age': 15}\n",
      "{'name': 'ram', 'age': 15}\n"
     ]
    }
   ],
   "source": [
    "student['name']='ram'\n",
    "print(student)\n",
    "print(student_copy)\n",
    "\n",
    "student_copy=student.copy()#shallow copy\n",
    "student['name']='Rohan'\n",
    "\n",
    "print(student)\n",
    "print(student_copy)\n"
   ]
  },
  {
   "cell_type": "code",
   "execution_count": 50,
   "metadata": {},
   "outputs": [
    {
     "name": "stdout",
     "output_type": "stream",
     "text": [
      "name\n",
      "age\n"
     ]
    }
   ],
   "source": [
    "#iterating over dictionary\n",
    "#iterating over keys\n",
    "for key in student.keys():\n",
    "    print(key)"
   ]
  },
  {
   "cell_type": "code",
   "execution_count": 51,
   "metadata": {},
   "outputs": [
    {
     "name": "stdout",
     "output_type": "stream",
     "text": [
      "Rohan\n",
      "15\n"
     ]
    }
   ],
   "source": [
    "\n",
    "#iterating over values\n",
    "for value in student.values():\n",
    "    print(value)"
   ]
  },
  {
   "cell_type": "code",
   "execution_count": 54,
   "metadata": {},
   "outputs": [
    {
     "name": "stdout",
     "output_type": "stream",
     "text": [
      "('name', 'Rohan')\n",
      "('age', 15)\n"
     ]
    }
   ],
   "source": [
    "\n",
    "#iterating over key values\n",
    "for iteam in student.items():\n",
    "    print(iteam)"
   ]
  },
  {
   "cell_type": "code",
   "execution_count": 56,
   "metadata": {},
   "outputs": [
    {
     "name": "stdout",
     "output_type": "stream",
     "text": [
      "name:Rohan\n",
      "age:15\n"
     ]
    }
   ],
   "source": [
    "\n",
    "#iterating over key values\n",
    "for key , value  in student.items():\n",
    "    print(f\"{key}:{value}\")"
   ]
  },
  {
   "cell_type": "code",
   "execution_count": 57,
   "metadata": {},
   "outputs": [],
   "source": [
    "#nested dictionary\n",
    "students={'student1':{'name':'amit','age':15},'student2':{'name':'raj','age':20}}\n"
   ]
  },
  {
   "cell_type": "code",
   "execution_count": 61,
   "metadata": {},
   "outputs": [
    {
     "name": "stdout",
     "output_type": "stream",
     "text": [
      "amit\n",
      "15\n",
      "20\n"
     ]
    }
   ],
   "source": [
    "#accessing nested dict\n",
    "print(students['student1']['name'])\n",
    "print(students['student1']['age'])\n",
    "print(students['student2']['age'])"
   ]
  },
  {
   "cell_type": "code",
   "execution_count": 69,
   "metadata": {},
   "outputs": [
    {
     "name": "stdout",
     "output_type": "stream",
     "text": [
      "student1 :{'name': 'amit', 'age': 15}\n",
      "name :amit\n",
      "age :15\n",
      "student2 :{'name': 'raj', 'age': 20}\n",
      "name :raj\n",
      "age :20\n"
     ]
    }
   ],
   "source": [
    "#itearting over nested dictionary\n",
    "for id,name in students.items():\n",
    "    print(f\"{id} :{name}\")\n",
    "    for key ,value in name.items():\n",
    "        print(f\"{key} :{value}\")\n"
   ]
  },
  {
   "cell_type": "code",
   "execution_count": 71,
   "metadata": {},
   "outputs": [
    {
     "name": "stdout",
     "output_type": "stream",
     "text": [
      "{1: 1, 2: 4, 3: 9, 4: 16, 5: 25, 6: 36, 7: 49, 8: 64, 9: 81, 10: 100}\n"
     ]
    }
   ],
   "source": [
    "#dictionary comprehension\n",
    "squares={x:x*x for x in range(1,11)}\n",
    "print(squares)"
   ]
  },
  {
   "cell_type": "code",
   "execution_count": 73,
   "metadata": {},
   "outputs": [
    {
     "name": "stdout",
     "output_type": "stream",
     "text": [
      "{2: 4, 4: 16, 6: 36, 8: 64, 10: 100}\n"
     ]
    }
   ],
   "source": [
    "#conditional dictioary comprehension\n",
    "\n",
    "squares={x:x*x for x in range(1,11) if x%2==0}\n",
    "print(squares)"
   ]
  },
  {
   "cell_type": "code",
   "execution_count": 75,
   "metadata": {},
   "outputs": [
    {
     "name": "stdout",
     "output_type": "stream",
     "text": [
      "{1: 8, 2: 6, 3: 8, 4: 2}\n"
     ]
    }
   ],
   "source": [
    "#use dictionary to count the frequencyof number in list\n",
    "li=[1,2,3,4,1,1,2,3,4,1,2,3,3,2,3,3,3,1,2,2,1,1,1,3]\n",
    "number_count={x:li.count(x) for x in li}\n",
    "print(number_count)"
   ]
  },
  {
   "cell_type": "code",
   "execution_count": 78,
   "metadata": {},
   "outputs": [
    {
     "name": "stdout",
     "output_type": "stream",
     "text": [
      "{'name': 'aman', 'age': 25, 'grade': 'A+', 'roll': 1}\n"
     ]
    }
   ],
   "source": [
    "#merging two dictinary\n",
    "student1={'name':'aman','age':25}\n",
    "student2={'grade':'A+','roll':1}\n",
    "merged_dict={**student1,**student2}\n",
    "print(merged_dict)"
   ]
  },
  {
   "cell_type": "markdown",
   "metadata": {},
   "source": [
    "Create a dictionary with the first 5 positive integers as keys and their squares as values. Create a new dictionary with keys and values swapped. Print the new dictionary."
   ]
  },
  {
   "cell_type": "code",
   "execution_count": 79,
   "metadata": {},
   "outputs": [
    {
     "name": "stdout",
     "output_type": "stream",
     "text": [
      "{1: 1, 4: 2, 9: 3, 16: 4, 25: 5}\n"
     ]
    }
   ],
   "source": [
    "d = {i: i**2 for i in range(1, 6)}\n",
    "swapped_dict = {v: k for k, v in d.items()}\n",
    "print(swapped_dict)"
   ]
  },
  {
   "cell_type": "markdown",
   "metadata": {},
   "source": [
    "Default Dictionary\n",
    "\n",
    "\n",
    "\n",
    "Create a default dictionary where each key has a default value of an empty list. Add some elements to the lists and print the dictionary."
   ]
  },
  {
   "cell_type": "code",
   "execution_count": 80,
   "metadata": {},
   "outputs": [
    {
     "name": "stdout",
     "output_type": "stream",
     "text": [
      "defaultdict(<class 'list'>, {'a': [1, 2], 'b': [3]})\n"
     ]
    }
   ],
   "source": [
    "from collections import defaultdict\n",
    "\n",
    "default_dict = defaultdict(list)\n",
    "default_dict['a'].append(1)\n",
    "default_dict['a'].append(2)\n",
    "default_dict['b'].append(3)\n",
    "print(default_dict)"
   ]
  },
  {
   "cell_type": "markdown",
   "metadata": {},
   "source": [
    "Dictionary and JSON\n",
    "\n",
    "Create a dictionary representing a book with keys 'title', 'author', 'year', and 'genre'. Convert the dictionary to a JSON string and print it."
   ]
  },
  {
   "cell_type": "code",
   "execution_count": 83,
   "metadata": {},
   "outputs": [
    {
     "name": "stdout",
     "output_type": "stream",
     "text": [
      "{\"title\": \"To Kill a Mockingbird\", \"author\": \"Harper Lee\", \"year\": 1960, \"genre\": \"Fiction\"}\n"
     ]
    }
   ],
   "source": [
    "import json\n",
    "book = {\n",
    "    'title': 'To Kill a Mockingbird',\n",
    "    'author': 'Harper Lee',\n",
    "    'year': 1960,\n",
    "    'genre': 'Fiction'\n",
    "}\n",
    "book_json=json.dumps(book)\n",
    "print(book_json)"
   ]
  }
 ],
 "metadata": {
  "kernelspec": {
   "display_name": "Python 3",
   "language": "python",
   "name": "python3"
  },
  "language_info": {
   "codemirror_mode": {
    "name": "ipython",
    "version": 3
   },
   "file_extension": ".py",
   "mimetype": "text/x-python",
   "name": "python",
   "nbconvert_exporter": "python",
   "pygments_lexer": "ipython3",
   "version": "3.12.4"
  }
 },
 "nbformat": 4,
 "nbformat_minor": 2
}
